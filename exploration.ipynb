{
 "cells": [
  {
   "cell_type": "markdown",
   "metadata": {},
   "source": [
    "[Bay Wheels](https://en.wikipedia.org/wiki/Bay_Wheels) (previously known as Ford GoBike) is a regional public bike sharing system in the San Francisco Bay Area, California. Bay Wheels is the first regional and large-scale bicycle sharing system deployed in California and on the West Coast of the United States with nearly 500,000 rides since the launch in 2017 and had about 10,000 annual subscribers as of January 2018. "
   ]
  },
  {
   "cell_type": "code",
   "execution_count": 1,
   "metadata": {},
   "outputs": [],
   "source": [
    "import numpy as np\n",
    "import pandas as pd\n",
    "import matplotlib.pyplot as plt\n",
    "import plotly.express as px\n",
    "import seaborn as sb\n",
    "import os\n",
    "import glob\n",
    "\n",
    "%matplotlib inline"
   ]
  },
  {
   "cell_type": "markdown",
   "metadata": {},
   "source": [
    "### I am reading twelve csv's in the current directory from where I initiated the jupyter notebook.\n",
    "\n",
    "Files: \n",
    "------\n",
    "\n",
    "```\n",
    "[~/Desktop/udacity/proj5]$ ls -lrt *csv\n",
    "    39120422  9 Jan  2020 201908-baywheels-tripdata.csv\n",
    "    40479431  9 Jan  2020 201909-baywheels-tripdata.csv\n",
    "    44675257  9 Jan  2020 201910-baywheels-tripdata.csv\n",
    "    34669388  9 Jan  2020 201911-baywheels-tripdata.csv\n",
    "    26289897 24 Mar 19:55 201912-baywheels-tripdata.csv\n",
    "    45417326 24 Mar 19:57 202001-baywheels-tripdata.csv\n",
    "    63329055 24 Mar 18:59 202002-baywheels-tripdata.csv\n",
    "    28323826 18 Apr 00:48 202003-baywheels-tripdata.csv\n",
    "    12772882 22 May 16:50 202004-baywheels-tripdata.csv\n",
    "    21784055  5 Jun 16:50 202005-baywheels-tripdata.csv\n",
    "    25802599  6 Jul 00:54 202006-baywheels-tripdata.csv\n",
    "    25761710 12 Aug 02:50 202007-baywheels-tripdata.csv\n",
    "```\n",
    "        \n",
    "I am exploring last twelve month's of data collected from [baywheels](https://s3.amazonaws.com/baywheels-data/index.html) as seen above the data is available in CSV format from the [baywheels](https://s3.amazonaws.com/baywheels-data/index.html).  \n",
    "\n",
    "From the [baywheels](https://www.lyft.com/bikes/bay-wheels/system-data) I know what each column of data represents:\n",
    "```\n",
    "\n",
    "System Data\n",
    "Here you'll find Bay Wheels's trip data for public use. So whether you're a designer, developer or just plain curious, feel free to download it and bring it to life. This data is provided according to the Bay Wheels License Agreement.\n",
    "\n",
    "The Data\n",
    "Each trip is anonymized and includes:\n",
    "\n",
    "Trip Duration (seconds)\n",
    "Start Time and Date\n",
    "End Time and Date\n",
    "Start Station ID\n",
    "Start Station Name\n",
    "Start Station Latitude\n",
    "Start Station Longitude\n",
    "End Station ID\n",
    "End Station Name\n",
    "End Station Latitude\n",
    "End Station Longitude\n",
    "Bike ID\n",
    "User Type (Subscriber or Customer – “Subscriber” = Member or “Customer” = Casual)\n",
    "```"
   ]
  },
  {
   "cell_type": "code",
   "execution_count": 2,
   "metadata": {},
   "outputs": [
    {
     "data": {
      "text/plain": [
       "['./201909-baywheels-tripdata.csv',\n",
       " './201908-baywheels-tripdata.csv',\n",
       " './202006-baywheels-tripdata.csv',\n",
       " './202001-baywheels-tripdata.csv',\n",
       " './201910-baywheels-tripdata.csv',\n",
       " './202002-baywheels-tripdata.csv',\n",
       " './202005-baywheels-tripdata.csv',\n",
       " './202004-baywheels-tripdata.csv',\n",
       " './202003-baywheels-tripdata.csv',\n",
       " './201912-baywheels-tripdata.csv',\n",
       " './201911-baywheels-tripdata.csv',\n",
       " './202007-baywheels-tripdata.csv']"
      ]
     },
     "execution_count": 2,
     "metadata": {},
     "output_type": "execute_result"
    }
   ],
   "source": [
    "# verify the list of all the files that we are reading\n",
    "all_csvs = [file for file in glob.glob(os.path.join('.', '*.csv'))]\n",
    "all_csvs"
   ]
  },
  {
   "cell_type": "code",
   "execution_count": 3,
   "metadata": {},
   "outputs": [
    {
     "name": "stderr",
     "output_type": "stream",
     "text": [
      "/Users/simer.anand/opt/anaconda3/lib/python3.7/site-packages/IPython/core/interactiveshell.py:3254: DtypeWarning: Columns (13) have mixed types.Specify dtype option on import or set low_memory=False.\n",
      "  if (await self.run_code(code, result,  async_=asy)):\n",
      "/Users/simer.anand/opt/anaconda3/lib/python3.7/site-packages/IPython/core/interactiveshell.py:3254: DtypeWarning: Columns (14) have mixed types.Specify dtype option on import or set low_memory=False.\n",
      "  if (await self.run_code(code, result,  async_=asy)):\n"
     ]
    },
    {
     "name": "stdout",
     "output_type": "stream",
     "text": [
      "Number of columns in the combined dataframe: 2444694\n",
      "Number of rows in the combined dataframe: 25\n"
     ]
    }
   ],
   "source": [
    "frames = [pd.read_csv(file) for file in glob.glob(os.path.join('.', '*.csv'))]\n",
    "df = pd.concat(frames, ignore_index=True)\n",
    "print(f'Number of columns in the combined dataframe: {df.shape[0]}')\n",
    "print(f'Number of rows in the combined dataframe: {df.shape[1]}')"
   ]
  },
  {
   "cell_type": "markdown",
   "metadata": {},
   "source": [
    "#### Gathering and Assessing\n",
    "    - View the sample of the dataframe.\n",
    "    - Check the column names\n",
    "    - run info() on the dataframe to check datatype."
   ]
  },
  {
   "cell_type": "code",
   "execution_count": 4,
   "metadata": {},
   "outputs": [
    {
     "data": {
      "text/html": [
       "<div>\n",
       "<style scoped>\n",
       "    .dataframe tbody tr th:only-of-type {\n",
       "        vertical-align: middle;\n",
       "    }\n",
       "\n",
       "    .dataframe tbody tr th {\n",
       "        vertical-align: top;\n",
       "    }\n",
       "\n",
       "    .dataframe thead th {\n",
       "        text-align: right;\n",
       "    }\n",
       "</style>\n",
       "<table border=\"1\" class=\"dataframe\">\n",
       "  <thead>\n",
       "    <tr style=\"text-align: right;\">\n",
       "      <th></th>\n",
       "      <th>duration_sec</th>\n",
       "      <th>start_time</th>\n",
       "      <th>end_time</th>\n",
       "      <th>start_station_id</th>\n",
       "      <th>start_station_name</th>\n",
       "      <th>start_station_latitude</th>\n",
       "      <th>start_station_longitude</th>\n",
       "      <th>end_station_id</th>\n",
       "      <th>end_station_name</th>\n",
       "      <th>end_station_latitude</th>\n",
       "      <th>...</th>\n",
       "      <th>rideable_type</th>\n",
       "      <th>started_at</th>\n",
       "      <th>ended_at</th>\n",
       "      <th>start_lat</th>\n",
       "      <th>start_lng</th>\n",
       "      <th>end_lat</th>\n",
       "      <th>end_lng</th>\n",
       "      <th>member_casual</th>\n",
       "      <th>rental_access_method</th>\n",
       "      <th>is_equity</th>\n",
       "    </tr>\n",
       "  </thead>\n",
       "  <tbody>\n",
       "    <tr>\n",
       "      <th>1701026</th>\n",
       "      <td>NaN</td>\n",
       "      <td>NaN</td>\n",
       "      <td>NaN</td>\n",
       "      <td>38.0</td>\n",
       "      <td>The Embarcadero at Pier 38</td>\n",
       "      <td>NaN</td>\n",
       "      <td>NaN</td>\n",
       "      <td>NaN</td>\n",
       "      <td>NaN</td>\n",
       "      <td>NaN</td>\n",
       "      <td>...</td>\n",
       "      <td>electric_bike</td>\n",
       "      <td>2020-04-28 17:02:28</td>\n",
       "      <td>2020-04-28 17:12:25</td>\n",
       "      <td>37.783100</td>\n",
       "      <td>-122.388000</td>\n",
       "      <td>37.785000</td>\n",
       "      <td>-122.404600</td>\n",
       "      <td>casual</td>\n",
       "      <td>NaN</td>\n",
       "      <td>NaN</td>\n",
       "    </tr>\n",
       "    <tr>\n",
       "      <th>1073877</th>\n",
       "      <td>139.0</td>\n",
       "      <td>2019-10-07 09:57:52.0010</td>\n",
       "      <td>2019-10-07 10:00:11.8990</td>\n",
       "      <td>132.0</td>\n",
       "      <td>24th St at Chattanooga St</td>\n",
       "      <td>37.751819</td>\n",
       "      <td>-122.426614</td>\n",
       "      <td>386.0</td>\n",
       "      <td>24th St at Bartlett St</td>\n",
       "      <td>37.752105</td>\n",
       "      <td>...</td>\n",
       "      <td>NaN</td>\n",
       "      <td>NaN</td>\n",
       "      <td>NaN</td>\n",
       "      <td>NaN</td>\n",
       "      <td>NaN</td>\n",
       "      <td>NaN</td>\n",
       "      <td>NaN</td>\n",
       "      <td>NaN</td>\n",
       "      <td>NaN</td>\n",
       "      <td>NaN</td>\n",
       "    </tr>\n",
       "    <tr>\n",
       "      <th>1040564</th>\n",
       "      <td>557.0</td>\n",
       "      <td>2019-10-11 07:28:25.4700</td>\n",
       "      <td>2019-10-11 07:37:42.4780</td>\n",
       "      <td>13.0</td>\n",
       "      <td>Commercial St at Montgomery St</td>\n",
       "      <td>37.794231</td>\n",
       "      <td>-122.402923</td>\n",
       "      <td>28.0</td>\n",
       "      <td>The Embarcadero at Bryant St</td>\n",
       "      <td>37.787168</td>\n",
       "      <td>...</td>\n",
       "      <td>NaN</td>\n",
       "      <td>NaN</td>\n",
       "      <td>NaN</td>\n",
       "      <td>NaN</td>\n",
       "      <td>NaN</td>\n",
       "      <td>NaN</td>\n",
       "      <td>NaN</td>\n",
       "      <td>NaN</td>\n",
       "      <td>NaN</td>\n",
       "      <td>NaN</td>\n",
       "    </tr>\n",
       "    <tr>\n",
       "      <th>504014</th>\n",
       "      <td>NaN</td>\n",
       "      <td>NaN</td>\n",
       "      <td>NaN</td>\n",
       "      <td>119.0</td>\n",
       "      <td>18th St at Noe St</td>\n",
       "      <td>NaN</td>\n",
       "      <td>NaN</td>\n",
       "      <td>84.0</td>\n",
       "      <td>Duboce Park</td>\n",
       "      <td>NaN</td>\n",
       "      <td>...</td>\n",
       "      <td>docked_bike</td>\n",
       "      <td>2020-06-19 14:42:46</td>\n",
       "      <td>2020-06-19 14:54:14</td>\n",
       "      <td>37.761047</td>\n",
       "      <td>-122.432641</td>\n",
       "      <td>37.769201</td>\n",
       "      <td>-122.433812</td>\n",
       "      <td>casual</td>\n",
       "      <td>NaN</td>\n",
       "      <td>NaN</td>\n",
       "    </tr>\n",
       "    <tr>\n",
       "      <th>2145596</th>\n",
       "      <td>1083.0</td>\n",
       "      <td>2019-11-21 07:14:55.6340</td>\n",
       "      <td>2019-11-21 07:32:58.8780</td>\n",
       "      <td>441.0</td>\n",
       "      <td>Chestnut St at Van Ness Ave</td>\n",
       "      <td>37.802288</td>\n",
       "      <td>-122.424509</td>\n",
       "      <td>16.0</td>\n",
       "      <td>Steuart St at Market St</td>\n",
       "      <td>37.794130</td>\n",
       "      <td>...</td>\n",
       "      <td>NaN</td>\n",
       "      <td>NaN</td>\n",
       "      <td>NaN</td>\n",
       "      <td>NaN</td>\n",
       "      <td>NaN</td>\n",
       "      <td>NaN</td>\n",
       "      <td>NaN</td>\n",
       "      <td>NaN</td>\n",
       "      <td>NaN</td>\n",
       "      <td>NaN</td>\n",
       "    </tr>\n",
       "    <tr>\n",
       "      <th>533492</th>\n",
       "      <td>NaN</td>\n",
       "      <td>NaN</td>\n",
       "      <td>NaN</td>\n",
       "      <td>172.0</td>\n",
       "      <td>College Ave at Taft Ave</td>\n",
       "      <td>NaN</td>\n",
       "      <td>NaN</td>\n",
       "      <td>172.0</td>\n",
       "      <td>College Ave at Taft Ave</td>\n",
       "      <td>NaN</td>\n",
       "      <td>...</td>\n",
       "      <td>docked_bike</td>\n",
       "      <td>2020-06-20 20:13:45</td>\n",
       "      <td>2020-06-20 20:37:31</td>\n",
       "      <td>37.841799</td>\n",
       "      <td>-122.251534</td>\n",
       "      <td>37.841800</td>\n",
       "      <td>-122.251535</td>\n",
       "      <td>casual</td>\n",
       "      <td>NaN</td>\n",
       "      <td>NaN</td>\n",
       "    </tr>\n",
       "    <tr>\n",
       "      <th>1554453</th>\n",
       "      <td>1161.0</td>\n",
       "      <td>2020-02-05 15:33:03</td>\n",
       "      <td>2020-02-05 15:52:25</td>\n",
       "      <td>NaN</td>\n",
       "      <td>NaN</td>\n",
       "      <td>37.808473</td>\n",
       "      <td>-122.412574</td>\n",
       "      <td>NaN</td>\n",
       "      <td>NaN</td>\n",
       "      <td>37.796113</td>\n",
       "      <td>...</td>\n",
       "      <td>NaN</td>\n",
       "      <td>NaN</td>\n",
       "      <td>NaN</td>\n",
       "      <td>NaN</td>\n",
       "      <td>NaN</td>\n",
       "      <td>NaN</td>\n",
       "      <td>NaN</td>\n",
       "      <td>NaN</td>\n",
       "      <td>app</td>\n",
       "      <td>NaN</td>\n",
       "    </tr>\n",
       "    <tr>\n",
       "      <th>1118178</th>\n",
       "      <td>210.0</td>\n",
       "      <td>2019-10-01 13:51:06.8140</td>\n",
       "      <td>2019-10-01 13:54:37.1360</td>\n",
       "      <td>252.0</td>\n",
       "      <td>Channing Way at Shattuck Ave</td>\n",
       "      <td>37.865847</td>\n",
       "      <td>-122.267443</td>\n",
       "      <td>245.0</td>\n",
       "      <td>Downtown Berkeley BART</td>\n",
       "      <td>37.870139</td>\n",
       "      <td>...</td>\n",
       "      <td>NaN</td>\n",
       "      <td>NaN</td>\n",
       "      <td>NaN</td>\n",
       "      <td>NaN</td>\n",
       "      <td>NaN</td>\n",
       "      <td>NaN</td>\n",
       "      <td>NaN</td>\n",
       "      <td>NaN</td>\n",
       "      <td>NaN</td>\n",
       "      <td>NaN</td>\n",
       "    </tr>\n",
       "    <tr>\n",
       "      <th>1191688</th>\n",
       "      <td>1182.0</td>\n",
       "      <td>2020-02-13 08:08:57.4310</td>\n",
       "      <td>2020-02-13 08:28:40.4190</td>\n",
       "      <td>106.0</td>\n",
       "      <td>Sanchez St at 17th St</td>\n",
       "      <td>37.763242</td>\n",
       "      <td>-122.430675</td>\n",
       "      <td>21.0</td>\n",
       "      <td>Montgomery St BART Station (Market St at 2nd St)</td>\n",
       "      <td>37.789625</td>\n",
       "      <td>...</td>\n",
       "      <td>NaN</td>\n",
       "      <td>NaN</td>\n",
       "      <td>NaN</td>\n",
       "      <td>NaN</td>\n",
       "      <td>NaN</td>\n",
       "      <td>NaN</td>\n",
       "      <td>NaN</td>\n",
       "      <td>NaN</td>\n",
       "      <td>NaN</td>\n",
       "      <td>NaN</td>\n",
       "    </tr>\n",
       "    <tr>\n",
       "      <th>1731005</th>\n",
       "      <td>NaN</td>\n",
       "      <td>NaN</td>\n",
       "      <td>NaN</td>\n",
       "      <td>450.0</td>\n",
       "      <td>Funston Ave at Irving St</td>\n",
       "      <td>NaN</td>\n",
       "      <td>NaN</td>\n",
       "      <td>450.0</td>\n",
       "      <td>Funston Ave at Irving St</td>\n",
       "      <td>NaN</td>\n",
       "      <td>...</td>\n",
       "      <td>docked_bike</td>\n",
       "      <td>2020-04-10 14:47:13</td>\n",
       "      <td>2020-04-10 16:33:25</td>\n",
       "      <td>37.763900</td>\n",
       "      <td>-122.470700</td>\n",
       "      <td>37.763900</td>\n",
       "      <td>-122.470700</td>\n",
       "      <td>casual</td>\n",
       "      <td>NaN</td>\n",
       "      <td>NaN</td>\n",
       "    </tr>\n",
       "  </tbody>\n",
       "</table>\n",
       "<p>10 rows × 25 columns</p>\n",
       "</div>"
      ],
      "text/plain": [
       "         duration_sec                start_time                  end_time  \\\n",
       "1701026           NaN                       NaN                       NaN   \n",
       "1073877         139.0  2019-10-07 09:57:52.0010  2019-10-07 10:00:11.8990   \n",
       "1040564         557.0  2019-10-11 07:28:25.4700  2019-10-11 07:37:42.4780   \n",
       "504014            NaN                       NaN                       NaN   \n",
       "2145596        1083.0  2019-11-21 07:14:55.6340  2019-11-21 07:32:58.8780   \n",
       "533492            NaN                       NaN                       NaN   \n",
       "1554453        1161.0       2020-02-05 15:33:03       2020-02-05 15:52:25   \n",
       "1118178         210.0  2019-10-01 13:51:06.8140  2019-10-01 13:54:37.1360   \n",
       "1191688        1182.0  2020-02-13 08:08:57.4310  2020-02-13 08:28:40.4190   \n",
       "1731005           NaN                       NaN                       NaN   \n",
       "\n",
       "         start_station_id              start_station_name  \\\n",
       "1701026              38.0      The Embarcadero at Pier 38   \n",
       "1073877             132.0       24th St at Chattanooga St   \n",
       "1040564              13.0  Commercial St at Montgomery St   \n",
       "504014              119.0               18th St at Noe St   \n",
       "2145596             441.0     Chestnut St at Van Ness Ave   \n",
       "533492              172.0         College Ave at Taft Ave   \n",
       "1554453               NaN                             NaN   \n",
       "1118178             252.0    Channing Way at Shattuck Ave   \n",
       "1191688             106.0           Sanchez St at 17th St   \n",
       "1731005             450.0        Funston Ave at Irving St   \n",
       "\n",
       "         start_station_latitude  start_station_longitude  end_station_id  \\\n",
       "1701026                     NaN                      NaN             NaN   \n",
       "1073877               37.751819              -122.426614           386.0   \n",
       "1040564               37.794231              -122.402923            28.0   \n",
       "504014                      NaN                      NaN            84.0   \n",
       "2145596               37.802288              -122.424509            16.0   \n",
       "533492                      NaN                      NaN           172.0   \n",
       "1554453               37.808473              -122.412574             NaN   \n",
       "1118178               37.865847              -122.267443           245.0   \n",
       "1191688               37.763242              -122.430675            21.0   \n",
       "1731005                     NaN                      NaN           450.0   \n",
       "\n",
       "                                         end_station_name  \\\n",
       "1701026                                               NaN   \n",
       "1073877                            24th St at Bartlett St   \n",
       "1040564                      The Embarcadero at Bryant St   \n",
       "504014                                        Duboce Park   \n",
       "2145596                           Steuart St at Market St   \n",
       "533492                            College Ave at Taft Ave   \n",
       "1554453                                               NaN   \n",
       "1118178                            Downtown Berkeley BART   \n",
       "1191688  Montgomery St BART Station (Market St at 2nd St)   \n",
       "1731005                          Funston Ave at Irving St   \n",
       "\n",
       "         end_station_latitude  ...  rideable_type           started_at  \\\n",
       "1701026                   NaN  ...  electric_bike  2020-04-28 17:02:28   \n",
       "1073877             37.752105  ...            NaN                  NaN   \n",
       "1040564             37.787168  ...            NaN                  NaN   \n",
       "504014                    NaN  ...    docked_bike  2020-06-19 14:42:46   \n",
       "2145596             37.794130  ...            NaN                  NaN   \n",
       "533492                    NaN  ...    docked_bike  2020-06-20 20:13:45   \n",
       "1554453             37.796113  ...            NaN                  NaN   \n",
       "1118178             37.870139  ...            NaN                  NaN   \n",
       "1191688             37.789625  ...            NaN                  NaN   \n",
       "1731005                   NaN  ...    docked_bike  2020-04-10 14:47:13   \n",
       "\n",
       "                    ended_at  start_lat   start_lng    end_lat     end_lng  \\\n",
       "1701026  2020-04-28 17:12:25  37.783100 -122.388000  37.785000 -122.404600   \n",
       "1073877                  NaN        NaN         NaN        NaN         NaN   \n",
       "1040564                  NaN        NaN         NaN        NaN         NaN   \n",
       "504014   2020-06-19 14:54:14  37.761047 -122.432641  37.769201 -122.433812   \n",
       "2145596                  NaN        NaN         NaN        NaN         NaN   \n",
       "533492   2020-06-20 20:37:31  37.841799 -122.251534  37.841800 -122.251535   \n",
       "1554453                  NaN        NaN         NaN        NaN         NaN   \n",
       "1118178                  NaN        NaN         NaN        NaN         NaN   \n",
       "1191688                  NaN        NaN         NaN        NaN         NaN   \n",
       "1731005  2020-04-10 16:33:25  37.763900 -122.470700  37.763900 -122.470700   \n",
       "\n",
       "        member_casual  rental_access_method  is_equity  \n",
       "1701026        casual                   NaN        NaN  \n",
       "1073877           NaN                   NaN        NaN  \n",
       "1040564           NaN                   NaN        NaN  \n",
       "504014         casual                   NaN        NaN  \n",
       "2145596           NaN                   NaN        NaN  \n",
       "533492         casual                   NaN        NaN  \n",
       "1554453           NaN                   app        NaN  \n",
       "1118178           NaN                   NaN        NaN  \n",
       "1191688           NaN                   NaN        NaN  \n",
       "1731005        casual                   NaN        NaN  \n",
       "\n",
       "[10 rows x 25 columns]"
      ]
     },
     "execution_count": 4,
     "metadata": {},
     "output_type": "execute_result"
    }
   ],
   "source": [
    "df.sample(10)"
   ]
  },
  {
   "cell_type": "markdown",
   "metadata": {},
   "source": [
    "### Observations:\n",
    "- There is a problem in the dataset above, columns `started_at` and `start_time` has same information,\n",
    "- There is a problem in the dataset above, columns `ended_at` and `end_time` has same information\n",
    "- In the last twelve months of the data I believe different columns names were used to represent the same data.\n",
    "- We need to correct this, will fix this in the `Cleaning` section."
   ]
  },
  {
   "cell_type": "code",
   "execution_count": 5,
   "metadata": {},
   "outputs": [
    {
     "name": "stdout",
     "output_type": "stream",
     "text": [
      "<class 'pandas.core.frame.DataFrame'>\n",
      "RangeIndex: 2444694 entries, 0 to 2444693\n",
      "Data columns (total 25 columns):\n",
      " #   Column                   Dtype  \n",
      "---  ------                   -----  \n",
      " 0   duration_sec             float64\n",
      " 1   start_time               object \n",
      " 2   end_time                 object \n",
      " 3   start_station_id         float64\n",
      " 4   start_station_name       object \n",
      " 5   start_station_latitude   float64\n",
      " 6   start_station_longitude  float64\n",
      " 7   end_station_id           float64\n",
      " 8   end_station_name         object \n",
      " 9   end_station_latitude     float64\n",
      " 10  end_station_longitude    float64\n",
      " 11  bike_id                  float64\n",
      " 12  user_type                object \n",
      " 13  bike_share_for_all_trip  object \n",
      " 14  ride_id                  object \n",
      " 15  rideable_type            object \n",
      " 16  started_at               object \n",
      " 17  ended_at                 object \n",
      " 18  start_lat                float64\n",
      " 19  start_lng                float64\n",
      " 20  end_lat                  float64\n",
      " 21  end_lng                  float64\n",
      " 22  member_casual            object \n",
      " 23  rental_access_method     object \n",
      " 24  is_equity                object \n",
      "dtypes: float64(12), object(13)\n",
      "memory usage: 466.3+ MB\n"
     ]
    }
   ],
   "source": [
    "df.info()"
   ]
  },
  {
   "cell_type": "markdown",
   "metadata": {},
   "source": [
    "#### Create a copy of the dataframe before I assess and make changes to the dataframe.\n",
    "- I name the new dataframe as `ford_df`."
   ]
  },
  {
   "cell_type": "code",
   "execution_count": 6,
   "metadata": {},
   "outputs": [],
   "source": [
    "ford_df = df.copy()"
   ]
  },
  {
   "cell_type": "markdown",
   "metadata": {},
   "source": [
    "#### Assessment of the dataframe `ford_df`:\n",
    "- Check for the null entries and their count in the dataframe.\n",
    "- Check for any duplicates in the dataframe and their count.\n",
    "- Assess the different columns and their values using methods `unique(), info(), describe(), value_counts()`."
   ]
  },
  {
   "cell_type": "code",
   "execution_count": 7,
   "metadata": {
    "scrolled": true
   },
   "outputs": [
    {
     "data": {
      "text/plain": [
       "duration_sec                535645\n",
       "start_time                  535645\n",
       "end_time                    535645\n",
       "start_station_id            701331\n",
       "start_station_name          700093\n",
       "start_station_latitude      535645\n",
       "start_station_longitude     535645\n",
       "end_station_id              709551\n",
       "end_station_name            708275\n",
       "end_station_latitude        535645\n",
       "end_station_longitude       535645\n",
       "bike_id                     535645\n",
       "user_type                   535645\n",
       "bike_share_for_all_trip    1592164\n",
       "ride_id                    1909049\n",
       "rideable_type              1909049\n",
       "started_at                 1909049\n",
       "ended_at                   1909049\n",
       "start_lat                  1909049\n",
       "start_lng                  1909049\n",
       "end_lat                    1909887\n",
       "end_lng                    1909887\n",
       "member_casual              1909049\n",
       "rental_access_method       1797745\n",
       "is_equity                  2306443\n",
       "dtype: int64"
      ]
     },
     "execution_count": 7,
     "metadata": {},
     "output_type": "execute_result"
    }
   ],
   "source": [
    "# check for any null rows count for each column.\n",
    "ford_df.isnull().sum()"
   ]
  },
  {
   "cell_type": "code",
   "execution_count": 8,
   "metadata": {},
   "outputs": [
    {
     "name": "stdout",
     "output_type": "stream",
     "text": [
      "Number of duplicate rows: 7512\n"
     ]
    }
   ],
   "source": [
    "#check the number of duplicate rows\n",
    "number_of_duplicate_rows = ford_df.duplicated().sum()\n",
    "print(f'Number of duplicate rows: {number_of_duplicate_rows}')\n",
    "\n",
    "# We will clean the duplicate rows in the next section of cleaning dataframe."
   ]
  },
  {
   "cell_type": "code",
   "execution_count": 9,
   "metadata": {},
   "outputs": [
    {
     "data": {
      "text/plain": [
       "electric_bike    367168\n",
       "docked_bike      168477\n",
       "Name: rideable_type, dtype: int64"
      ]
     },
     "execution_count": 9,
     "metadata": {},
     "output_type": "execute_result"
    }
   ],
   "source": [
    "# Curious to know the most common bike type being used\n",
    "ford_df.rideable_type.value_counts()"
   ]
  },
  {
   "cell_type": "code",
   "execution_count": 10,
   "metadata": {},
   "outputs": [
    {
     "data": {
      "text/plain": [
       "83A207FAD76F08B0    1\n",
       "ACBC1192CF54A276    1\n",
       "11799F7D34B194D8    1\n",
       "2A8A92B3EB84CD52    1\n",
       "C9FE6CA77F732657    1\n",
       "D62320C0F6238369    1\n",
       "87E3A1B7E9AA31E4    1\n",
       "290F77C6B31DEAE2    1\n",
       "6CC76C6A0B40682F    1\n",
       "D72ED42F03AE4134    1\n",
       "Name: ride_id, dtype: int64"
      ]
     },
     "execution_count": 10,
     "metadata": {},
     "output_type": "execute_result"
    }
   ],
   "source": [
    "# Check to see if the data has any duplicate bike id\n",
    "ford_df.ride_id.value_counts().nlargest(10).sort_values()"
   ]
  },
  {
   "cell_type": "code",
   "execution_count": 11,
   "metadata": {},
   "outputs": [
    {
     "data": {
      "text/plain": [
       "False    129548\n",
       "True       8703\n",
       "Name: is_equity, dtype: int64"
      ]
     },
     "execution_count": 11,
     "metadata": {},
     "output_type": "execute_result"
    }
   ],
   "source": [
    "# Not sure what this column `is_equity` means, curious to check the values \n",
    "ford_df.is_equity.value_counts()"
   ]
  },
  {
   "cell_type": "code",
   "execution_count": 12,
   "metadata": {},
   "outputs": [
    {
     "data": {
      "text/plain": [
       "casual    319097\n",
       "member    216548\n",
       "Name: member_casual, dtype: int64"
      ]
     },
     "execution_count": 12,
     "metadata": {},
     "output_type": "execute_result"
    }
   ],
   "source": [
    "# Find out the different number of user type casual vs member\n",
    "ford_df.member_casual.value_counts()"
   ]
  },
  {
   "cell_type": "code",
   "execution_count": 13,
   "metadata": {},
   "outputs": [
    {
     "data": {
      "text/plain": [
       "Subscriber    1282009\n",
       "Customer       627040\n",
       "Name: user_type, dtype: int64"
      ]
     },
     "execution_count": 13,
     "metadata": {},
     "output_type": "execute_result"
    }
   ],
   "source": [
    "# Find out the different number of user type subscriber vs customer\n",
    "# looks like some data error, the two columns `user_type` and `member_casual` \n",
    "# are representing the same values but different terminology\n",
    "ford_df.user_type.value_counts()"
   ]
  },
  {
   "cell_type": "code",
   "execution_count": 14,
   "metadata": {},
   "outputs": [
    {
     "data": {
      "text/plain": [
       "app        595649\n",
       "clipper     51300\n",
       "Name: rental_access_method, dtype: int64"
      ]
     },
     "execution_count": 14,
     "metadata": {},
     "output_type": "execute_result"
    }
   ],
   "source": [
    "# Find out the number of users in the app vs clipper\n",
    "ford_df.rental_access_method.value_counts()"
   ]
  },
  {
   "cell_type": "markdown",
   "metadata": {},
   "source": [
    "#### Cleaning Data:\n",
    "- delete some of the columns which wont be required for the analysis\n",
    "  such as:\n",
    "   `start_station_latitude`, \n",
    "   `start_station_longitude`, \n",
    "   `end_station_latitude`, \n",
    "   `end_station_longitude`,\n",
    "   `start_lat`,\n",
    "   `start_lng`,\n",
    "   `end_lat`,\n",
    "   `end_lng`,\n",
    "- `started_at`: the column values are in str format should be datetime obj,\n",
    "- `ended_at`: the column values are in str format should be datetime obj,\n",
    "- duplicated_rows: get rid of the duplicated rows,\n",
    "- `started_at` and `start_time` two columns has the same value,\n",
    "- `ended_at` and `end_time` two columns has the same value,\n",
    "- create new columns which contains the `year`, `month` and `day` when the bike was hired.\n",
    "- columns `member_casual` and `user_type` represents the same value, merge the values and replace one of the values with the other, for example as seen `user_type` has `Subscriber` and `Customer` values and `member_casual` has values `casual` and `member` values. They are all same. Hence for our dataframe we will user `Subscriber` and `Customer` values.\n",
    "- `duration_sec`: column value is in seconds, will convert them in mins to have smaller values and rename the column from `duration_sec` to `duraion_mins`."
   ]
  },
  {
   "cell_type": "code",
   "execution_count": 15,
   "metadata": {},
   "outputs": [],
   "source": [
    "# Drop the columns `start_station_latitude`, `start_station_longitude`, `end_station_latitude`, `end_station_longitude`, start_lat, start_lng, end_lat, end_lng\n",
    "ford_df.drop(columns=['start_station_latitude', 'start_station_longitude', 'end_station_latitude', 'end_station_longitude', 'start_station_name', 'end_station_name', 'start_lat', 'start_lng', 'end_lat', 'end_lng', 'is_equity'], inplace=True)"
   ]
  },
  {
   "cell_type": "code",
   "execution_count": 16,
   "metadata": {
    "scrolled": true
   },
   "outputs": [
    {
     "data": {
      "text/html": [
       "<div>\n",
       "<style scoped>\n",
       "    .dataframe tbody tr th:only-of-type {\n",
       "        vertical-align: middle;\n",
       "    }\n",
       "\n",
       "    .dataframe tbody tr th {\n",
       "        vertical-align: top;\n",
       "    }\n",
       "\n",
       "    .dataframe thead th {\n",
       "        text-align: right;\n",
       "    }\n",
       "</style>\n",
       "<table border=\"1\" class=\"dataframe\">\n",
       "  <thead>\n",
       "    <tr style=\"text-align: right;\">\n",
       "      <th></th>\n",
       "      <th>duration_sec</th>\n",
       "      <th>start_time</th>\n",
       "      <th>end_time</th>\n",
       "      <th>start_station_id</th>\n",
       "      <th>end_station_id</th>\n",
       "      <th>bike_id</th>\n",
       "      <th>user_type</th>\n",
       "      <th>bike_share_for_all_trip</th>\n",
       "      <th>ride_id</th>\n",
       "      <th>rideable_type</th>\n",
       "      <th>started_at</th>\n",
       "      <th>ended_at</th>\n",
       "      <th>member_casual</th>\n",
       "      <th>rental_access_method</th>\n",
       "    </tr>\n",
       "  </thead>\n",
       "  <tbody>\n",
       "    <tr>\n",
       "      <th>0</th>\n",
       "      <td>60863.0</td>\n",
       "      <td>2019-09-30 11:48:02.7100</td>\n",
       "      <td>2019-10-01 04:42:25.8640</td>\n",
       "      <td>465.0</td>\n",
       "      <td>465.0</td>\n",
       "      <td>12904.0</td>\n",
       "      <td>Customer</td>\n",
       "      <td>No</td>\n",
       "      <td>NaN</td>\n",
       "      <td>NaN</td>\n",
       "      <td>NaN</td>\n",
       "      <td>NaN</td>\n",
       "      <td>NaN</td>\n",
       "      <td>NaN</td>\n",
       "    </tr>\n",
       "    <tr>\n",
       "      <th>1</th>\n",
       "      <td>36019.0</td>\n",
       "      <td>2019-09-30 16:16:32.3530</td>\n",
       "      <td>2019-10-01 02:16:51.9820</td>\n",
       "      <td>294.0</td>\n",
       "      <td>443.0</td>\n",
       "      <td>163.0</td>\n",
       "      <td>Customer</td>\n",
       "      <td>No</td>\n",
       "      <td>NaN</td>\n",
       "      <td>NaN</td>\n",
       "      <td>NaN</td>\n",
       "      <td>NaN</td>\n",
       "      <td>NaN</td>\n",
       "      <td>NaN</td>\n",
       "    </tr>\n",
       "    <tr>\n",
       "      <th>2</th>\n",
       "      <td>5615.0</td>\n",
       "      <td>2019-09-30 23:12:25.9980</td>\n",
       "      <td>2019-10-01 00:46:01.9590</td>\n",
       "      <td>370.0</td>\n",
       "      <td>4.0</td>\n",
       "      <td>10737.0</td>\n",
       "      <td>Customer</td>\n",
       "      <td>No</td>\n",
       "      <td>NaN</td>\n",
       "      <td>NaN</td>\n",
       "      <td>NaN</td>\n",
       "      <td>NaN</td>\n",
       "      <td>NaN</td>\n",
       "      <td>NaN</td>\n",
       "    </tr>\n",
       "    <tr>\n",
       "      <th>3</th>\n",
       "      <td>1482.0</td>\n",
       "      <td>2019-09-30 23:57:34.6630</td>\n",
       "      <td>2019-10-01 00:22:16.8490</td>\n",
       "      <td>109.0</td>\n",
       "      <td>460.0</td>\n",
       "      <td>10346.0</td>\n",
       "      <td>Customer</td>\n",
       "      <td>No</td>\n",
       "      <td>NaN</td>\n",
       "      <td>NaN</td>\n",
       "      <td>NaN</td>\n",
       "      <td>NaN</td>\n",
       "      <td>NaN</td>\n",
       "      <td>NaN</td>\n",
       "    </tr>\n",
       "    <tr>\n",
       "      <th>4</th>\n",
       "      <td>1272.0</td>\n",
       "      <td>2019-09-30 23:53:28.6530</td>\n",
       "      <td>2019-10-01 00:14:41.0740</td>\n",
       "      <td>95.0</td>\n",
       "      <td>127.0</td>\n",
       "      <td>1349.0</td>\n",
       "      <td>Subscriber</td>\n",
       "      <td>No</td>\n",
       "      <td>NaN</td>\n",
       "      <td>NaN</td>\n",
       "      <td>NaN</td>\n",
       "      <td>NaN</td>\n",
       "      <td>NaN</td>\n",
       "      <td>NaN</td>\n",
       "    </tr>\n",
       "  </tbody>\n",
       "</table>\n",
       "</div>"
      ],
      "text/plain": [
       "   duration_sec                start_time                  end_time  \\\n",
       "0       60863.0  2019-09-30 11:48:02.7100  2019-10-01 04:42:25.8640   \n",
       "1       36019.0  2019-09-30 16:16:32.3530  2019-10-01 02:16:51.9820   \n",
       "2        5615.0  2019-09-30 23:12:25.9980  2019-10-01 00:46:01.9590   \n",
       "3        1482.0  2019-09-30 23:57:34.6630  2019-10-01 00:22:16.8490   \n",
       "4        1272.0  2019-09-30 23:53:28.6530  2019-10-01 00:14:41.0740   \n",
       "\n",
       "   start_station_id  end_station_id  bike_id   user_type  \\\n",
       "0             465.0           465.0  12904.0    Customer   \n",
       "1             294.0           443.0    163.0    Customer   \n",
       "2             370.0             4.0  10737.0    Customer   \n",
       "3             109.0           460.0  10346.0    Customer   \n",
       "4              95.0           127.0   1349.0  Subscriber   \n",
       "\n",
       "  bike_share_for_all_trip ride_id rideable_type started_at ended_at  \\\n",
       "0                      No     NaN           NaN        NaN      NaN   \n",
       "1                      No     NaN           NaN        NaN      NaN   \n",
       "2                      No     NaN           NaN        NaN      NaN   \n",
       "3                      No     NaN           NaN        NaN      NaN   \n",
       "4                      No     NaN           NaN        NaN      NaN   \n",
       "\n",
       "  member_casual rental_access_method  \n",
       "0           NaN                  NaN  \n",
       "1           NaN                  NaN  \n",
       "2           NaN                  NaN  \n",
       "3           NaN                  NaN  \n",
       "4           NaN                  NaN  "
      ]
     },
     "execution_count": 16,
     "metadata": {},
     "output_type": "execute_result"
    }
   ],
   "source": [
    "ford_df.head()"
   ]
  },
  {
   "cell_type": "code",
   "execution_count": 17,
   "metadata": {},
   "outputs": [
    {
     "data": {
      "text/plain": [
       "No     788939\n",
       "Yes     63591\n",
       "Name: bike_share_for_all_trip, dtype: int64"
      ]
     },
     "execution_count": 17,
     "metadata": {},
     "output_type": "execute_result"
    }
   ],
   "source": [
    "ford_df.bike_share_for_all_trip.value_counts()"
   ]
  },
  {
   "cell_type": "code",
   "execution_count": 18,
   "metadata": {},
   "outputs": [
    {
     "name": "stdout",
     "output_type": "stream",
     "text": [
      "<class 'pandas.core.frame.DataFrame'>\n",
      "RangeIndex: 2444694 entries, 0 to 2444693\n",
      "Data columns (total 14 columns):\n",
      " #   Column                   Dtype  \n",
      "---  ------                   -----  \n",
      " 0   duration_sec             float64\n",
      " 1   start_time               object \n",
      " 2   end_time                 object \n",
      " 3   start_station_id         float64\n",
      " 4   end_station_id           float64\n",
      " 5   bike_id                  float64\n",
      " 6   user_type                object \n",
      " 7   bike_share_for_all_trip  object \n",
      " 8   ride_id                  object \n",
      " 9   rideable_type            object \n",
      " 10  started_at               object \n",
      " 11  ended_at                 object \n",
      " 12  member_casual            object \n",
      " 13  rental_access_method     object \n",
      "dtypes: float64(4), object(10)\n",
      "memory usage: 261.1+ MB\n"
     ]
    }
   ],
   "source": [
    "ford_df.info()"
   ]
  },
  {
   "cell_type": "code",
   "execution_count": 19,
   "metadata": {},
   "outputs": [],
   "source": [
    "# Convert the time related columns in the dataframe into the datetime obj\n",
    "ford_df['start_time'] = pd.to_datetime(ford_df['start_time'])\n",
    "ford_df['end_time'] = pd.to_datetime(ford_df['end_time'])\n",
    "ford_df['started_at'] = pd.to_datetime(ford_df['started_at'])\n",
    "ford_df['ended_at'] = pd.to_datetime(ford_df['ended_at'])"
   ]
  },
  {
   "cell_type": "code",
   "execution_count": 20,
   "metadata": {},
   "outputs": [],
   "source": [
    "# dtype for datetime64[ns] object if reffered as '<M8[ns]'\n",
    "# If below two statements do not return False, \n",
    "# that means the objects have been converted to the datetime obj\n",
    "\n",
    "assert ford_df.start_time.dtype == '<M8[ns]'\n",
    "assert ford_df.end_time.dtype == '<M8[ns]'"
   ]
  },
  {
   "cell_type": "code",
   "execution_count": 21,
   "metadata": {},
   "outputs": [
    {
     "name": "stdout",
     "output_type": "stream",
     "text": [
      "<class 'pandas.core.frame.DataFrame'>\n",
      "RangeIndex: 2444694 entries, 0 to 2444693\n",
      "Data columns (total 14 columns):\n",
      " #   Column                   Dtype         \n",
      "---  ------                   -----         \n",
      " 0   duration_sec             float64       \n",
      " 1   start_time               datetime64[ns]\n",
      " 2   end_time                 datetime64[ns]\n",
      " 3   start_station_id         float64       \n",
      " 4   end_station_id           float64       \n",
      " 5   bike_id                  float64       \n",
      " 6   user_type                object        \n",
      " 7   bike_share_for_all_trip  object        \n",
      " 8   ride_id                  object        \n",
      " 9   rideable_type            object        \n",
      " 10  started_at               datetime64[ns]\n",
      " 11  ended_at                 datetime64[ns]\n",
      " 12  member_casual            object        \n",
      " 13  rental_access_method     object        \n",
      "dtypes: datetime64[ns](4), float64(4), object(6)\n",
      "memory usage: 261.1+ MB\n"
     ]
    }
   ],
   "source": [
    "ford_df.info()"
   ]
  },
  {
   "cell_type": "markdown",
   "metadata": {},
   "source": [
    "- now coming to the duplicate row of the data"
   ]
  },
  {
   "cell_type": "code",
   "execution_count": 22,
   "metadata": {},
   "outputs": [
    {
     "data": {
      "text/html": [
       "<div>\n",
       "<style scoped>\n",
       "    .dataframe tbody tr th:only-of-type {\n",
       "        vertical-align: middle;\n",
       "    }\n",
       "\n",
       "    .dataframe tbody tr th {\n",
       "        vertical-align: top;\n",
       "    }\n",
       "\n",
       "    .dataframe thead th {\n",
       "        text-align: right;\n",
       "    }\n",
       "</style>\n",
       "<table border=\"1\" class=\"dataframe\">\n",
       "  <thead>\n",
       "    <tr style=\"text-align: right;\">\n",
       "      <th></th>\n",
       "      <th>duration_sec</th>\n",
       "      <th>start_time</th>\n",
       "      <th>end_time</th>\n",
       "      <th>start_station_id</th>\n",
       "      <th>end_station_id</th>\n",
       "      <th>bike_id</th>\n",
       "      <th>user_type</th>\n",
       "      <th>bike_share_for_all_trip</th>\n",
       "      <th>ride_id</th>\n",
       "      <th>rideable_type</th>\n",
       "      <th>started_at</th>\n",
       "      <th>ended_at</th>\n",
       "      <th>member_casual</th>\n",
       "      <th>rental_access_method</th>\n",
       "    </tr>\n",
       "  </thead>\n",
       "  <tbody>\n",
       "    <tr>\n",
       "      <th>1909590</th>\n",
       "      <td>573.0</td>\n",
       "      <td>2020-03-01 07:08:14</td>\n",
       "      <td>2020-03-01 07:17:48</td>\n",
       "      <td>NaN</td>\n",
       "      <td>84.0</td>\n",
       "      <td>695150.0</td>\n",
       "      <td>Subscriber</td>\n",
       "      <td>NaN</td>\n",
       "      <td>NaN</td>\n",
       "      <td>NaN</td>\n",
       "      <td>NaT</td>\n",
       "      <td>NaT</td>\n",
       "      <td>NaN</td>\n",
       "      <td>clipper</td>\n",
       "    </tr>\n",
       "    <tr>\n",
       "      <th>1864396</th>\n",
       "      <td>1255.0</td>\n",
       "      <td>2020-03-01 09:23:41</td>\n",
       "      <td>2020-03-01 09:44:37</td>\n",
       "      <td>NaN</td>\n",
       "      <td>NaN</td>\n",
       "      <td>308232.0</td>\n",
       "      <td>Subscriber</td>\n",
       "      <td>NaN</td>\n",
       "      <td>NaN</td>\n",
       "      <td>NaN</td>\n",
       "      <td>NaT</td>\n",
       "      <td>NaT</td>\n",
       "      <td>NaN</td>\n",
       "      <td>app</td>\n",
       "    </tr>\n",
       "    <tr>\n",
       "      <th>1851191</th>\n",
       "      <td>458.0</td>\n",
       "      <td>2020-03-01 21:20:29</td>\n",
       "      <td>2020-03-01 21:28:08</td>\n",
       "      <td>NaN</td>\n",
       "      <td>NaN</td>\n",
       "      <td>404592.0</td>\n",
       "      <td>Subscriber</td>\n",
       "      <td>NaN</td>\n",
       "      <td>NaN</td>\n",
       "      <td>NaN</td>\n",
       "      <td>NaT</td>\n",
       "      <td>NaT</td>\n",
       "      <td>NaN</td>\n",
       "      <td>clipper</td>\n",
       "    </tr>\n",
       "    <tr>\n",
       "      <th>1853554</th>\n",
       "      <td>2531.0</td>\n",
       "      <td>2020-03-01 15:53:41</td>\n",
       "      <td>2020-03-01 16:35:52</td>\n",
       "      <td>NaN</td>\n",
       "      <td>NaN</td>\n",
       "      <td>237074.0</td>\n",
       "      <td>Subscriber</td>\n",
       "      <td>NaN</td>\n",
       "      <td>NaN</td>\n",
       "      <td>NaN</td>\n",
       "      <td>NaT</td>\n",
       "      <td>NaT</td>\n",
       "      <td>NaN</td>\n",
       "      <td>app</td>\n",
       "    </tr>\n",
       "    <tr>\n",
       "      <th>1909514</th>\n",
       "      <td>888.0</td>\n",
       "      <td>2020-03-01 17:38:40</td>\n",
       "      <td>2020-03-01 17:53:28</td>\n",
       "      <td>NaN</td>\n",
       "      <td>NaN</td>\n",
       "      <td>399199.0</td>\n",
       "      <td>Subscriber</td>\n",
       "      <td>NaN</td>\n",
       "      <td>NaN</td>\n",
       "      <td>NaN</td>\n",
       "      <td>NaT</td>\n",
       "      <td>NaT</td>\n",
       "      <td>NaN</td>\n",
       "      <td>app</td>\n",
       "    </tr>\n",
       "    <tr>\n",
       "      <th>1919508</th>\n",
       "      <td>1329.0</td>\n",
       "      <td>2020-03-01 03:05:52</td>\n",
       "      <td>2020-03-01 03:28:02</td>\n",
       "      <td>NaN</td>\n",
       "      <td>NaN</td>\n",
       "      <td>580899.0</td>\n",
       "      <td>Subscriber</td>\n",
       "      <td>NaN</td>\n",
       "      <td>NaN</td>\n",
       "      <td>NaN</td>\n",
       "      <td>NaT</td>\n",
       "      <td>NaT</td>\n",
       "      <td>NaN</td>\n",
       "      <td>app</td>\n",
       "    </tr>\n",
       "    <tr>\n",
       "      <th>1928608</th>\n",
       "      <td>1219.0</td>\n",
       "      <td>2020-03-01 13:39:57</td>\n",
       "      <td>2020-03-01 14:00:16</td>\n",
       "      <td>NaN</td>\n",
       "      <td>NaN</td>\n",
       "      <td>927579.0</td>\n",
       "      <td>Subscriber</td>\n",
       "      <td>NaN</td>\n",
       "      <td>NaN</td>\n",
       "      <td>NaN</td>\n",
       "      <td>NaT</td>\n",
       "      <td>NaT</td>\n",
       "      <td>NaN</td>\n",
       "      <td>app</td>\n",
       "    </tr>\n",
       "    <tr>\n",
       "      <th>1925866</th>\n",
       "      <td>750.0</td>\n",
       "      <td>2020-03-01 09:16:42</td>\n",
       "      <td>2020-03-01 09:29:12</td>\n",
       "      <td>NaN</td>\n",
       "      <td>NaN</td>\n",
       "      <td>834764.0</td>\n",
       "      <td>Customer</td>\n",
       "      <td>NaN</td>\n",
       "      <td>NaN</td>\n",
       "      <td>NaN</td>\n",
       "      <td>NaT</td>\n",
       "      <td>NaT</td>\n",
       "      <td>NaN</td>\n",
       "      <td>app</td>\n",
       "    </tr>\n",
       "    <tr>\n",
       "      <th>1861137</th>\n",
       "      <td>524.0</td>\n",
       "      <td>2020-03-01 17:44:37</td>\n",
       "      <td>2020-03-01 17:53:21</td>\n",
       "      <td>141.0</td>\n",
       "      <td>411.0</td>\n",
       "      <td>430940.0</td>\n",
       "      <td>Subscriber</td>\n",
       "      <td>NaN</td>\n",
       "      <td>NaN</td>\n",
       "      <td>NaN</td>\n",
       "      <td>NaT</td>\n",
       "      <td>NaT</td>\n",
       "      <td>NaN</td>\n",
       "      <td>app</td>\n",
       "    </tr>\n",
       "    <tr>\n",
       "      <th>1895011</th>\n",
       "      <td>1591.0</td>\n",
       "      <td>2020-03-01 09:50:13</td>\n",
       "      <td>2020-03-01 10:16:45</td>\n",
       "      <td>485.0</td>\n",
       "      <td>NaN</td>\n",
       "      <td>906629.0</td>\n",
       "      <td>Customer</td>\n",
       "      <td>NaN</td>\n",
       "      <td>NaN</td>\n",
       "      <td>NaN</td>\n",
       "      <td>NaT</td>\n",
       "      <td>NaT</td>\n",
       "      <td>NaN</td>\n",
       "      <td>app</td>\n",
       "    </tr>\n",
       "  </tbody>\n",
       "</table>\n",
       "</div>"
      ],
      "text/plain": [
       "         duration_sec          start_time            end_time  \\\n",
       "1909590         573.0 2020-03-01 07:08:14 2020-03-01 07:17:48   \n",
       "1864396        1255.0 2020-03-01 09:23:41 2020-03-01 09:44:37   \n",
       "1851191         458.0 2020-03-01 21:20:29 2020-03-01 21:28:08   \n",
       "1853554        2531.0 2020-03-01 15:53:41 2020-03-01 16:35:52   \n",
       "1909514         888.0 2020-03-01 17:38:40 2020-03-01 17:53:28   \n",
       "1919508        1329.0 2020-03-01 03:05:52 2020-03-01 03:28:02   \n",
       "1928608        1219.0 2020-03-01 13:39:57 2020-03-01 14:00:16   \n",
       "1925866         750.0 2020-03-01 09:16:42 2020-03-01 09:29:12   \n",
       "1861137         524.0 2020-03-01 17:44:37 2020-03-01 17:53:21   \n",
       "1895011        1591.0 2020-03-01 09:50:13 2020-03-01 10:16:45   \n",
       "\n",
       "         start_station_id  end_station_id   bike_id   user_type  \\\n",
       "1909590               NaN            84.0  695150.0  Subscriber   \n",
       "1864396               NaN             NaN  308232.0  Subscriber   \n",
       "1851191               NaN             NaN  404592.0  Subscriber   \n",
       "1853554               NaN             NaN  237074.0  Subscriber   \n",
       "1909514               NaN             NaN  399199.0  Subscriber   \n",
       "1919508               NaN             NaN  580899.0  Subscriber   \n",
       "1928608               NaN             NaN  927579.0  Subscriber   \n",
       "1925866               NaN             NaN  834764.0    Customer   \n",
       "1861137             141.0           411.0  430940.0  Subscriber   \n",
       "1895011             485.0             NaN  906629.0    Customer   \n",
       "\n",
       "        bike_share_for_all_trip ride_id rideable_type started_at ended_at  \\\n",
       "1909590                     NaN     NaN           NaN        NaT      NaT   \n",
       "1864396                     NaN     NaN           NaN        NaT      NaT   \n",
       "1851191                     NaN     NaN           NaN        NaT      NaT   \n",
       "1853554                     NaN     NaN           NaN        NaT      NaT   \n",
       "1909514                     NaN     NaN           NaN        NaT      NaT   \n",
       "1919508                     NaN     NaN           NaN        NaT      NaT   \n",
       "1928608                     NaN     NaN           NaN        NaT      NaT   \n",
       "1925866                     NaN     NaN           NaN        NaT      NaT   \n",
       "1861137                     NaN     NaN           NaN        NaT      NaT   \n",
       "1895011                     NaN     NaN           NaN        NaT      NaT   \n",
       "\n",
       "        member_casual rental_access_method  \n",
       "1909590           NaN              clipper  \n",
       "1864396           NaN                  app  \n",
       "1851191           NaN              clipper  \n",
       "1853554           NaN                  app  \n",
       "1909514           NaN                  app  \n",
       "1919508           NaN                  app  \n",
       "1928608           NaN                  app  \n",
       "1925866           NaN                  app  \n",
       "1861137           NaN                  app  \n",
       "1895011           NaN                  app  "
      ]
     },
     "execution_count": 22,
     "metadata": {},
     "output_type": "execute_result"
    }
   ],
   "source": [
    "# check out the redudant rows and what their data look like\n",
    "# I will create a new subset of dataframe with only the duplicated rows.\n",
    "duplicate_ford_df_rows = ford_df[ford_df.duplicated()]\n",
    "duplicate_ford_df_rows.sample(10)"
   ]
  },
  {
   "cell_type": "markdown",
   "metadata": {},
   "source": [
    "From the visual assessment of the duplicated rows, It does not look like the rows are duplicate, assuming its the same bike id and all other columns with mostly `NaN` values and float values (only decimal differences) with only decimal differences."
   ]
  },
  {
   "cell_type": "code",
   "execution_count": 23,
   "metadata": {},
   "outputs": [
    {
     "data": {
      "text/plain": [
       "264291.0    24\n",
       "370904.0    23\n",
       "591582.0    22\n",
       "394880.0    21\n",
       "867712.0    20\n",
       "478196.0    19\n",
       "499847.0    19\n",
       "119364.0    18\n",
       "429980.0    18\n",
       "462751.0    18\n",
       "Name: bike_id, dtype: int64"
      ]
     },
     "execution_count": 23,
     "metadata": {},
     "output_type": "execute_result"
    }
   ],
   "source": [
    "# check the number of entries for each bike or see if my above assumption is true\n",
    "duplicate_ford_df_rows.bike_id.value_counts().nlargest(10)"
   ]
  },
  {
   "cell_type": "markdown",
   "metadata": {},
   "source": [
    "- We see from above the bike id have multiple rows which makes sense bike id is associated with the bike and more than one user can use the bike.\n",
    "- Lets see the details of the one of the bike from the duplicate rows dataframe."
   ]
  },
  {
   "cell_type": "code",
   "execution_count": 24,
   "metadata": {},
   "outputs": [
    {
     "data": {
      "text/html": [
       "<div>\n",
       "<style scoped>\n",
       "    .dataframe tbody tr th:only-of-type {\n",
       "        vertical-align: middle;\n",
       "    }\n",
       "\n",
       "    .dataframe tbody tr th {\n",
       "        vertical-align: top;\n",
       "    }\n",
       "\n",
       "    .dataframe thead th {\n",
       "        text-align: right;\n",
       "    }\n",
       "</style>\n",
       "<table border=\"1\" class=\"dataframe\">\n",
       "  <thead>\n",
       "    <tr style=\"text-align: right;\">\n",
       "      <th></th>\n",
       "      <th>duration_sec</th>\n",
       "      <th>start_station_id</th>\n",
       "      <th>end_station_id</th>\n",
       "      <th>bike_id</th>\n",
       "    </tr>\n",
       "  </thead>\n",
       "  <tbody>\n",
       "    <tr>\n",
       "      <th>count</th>\n",
       "      <td>24.000000</td>\n",
       "      <td>0.0</td>\n",
       "      <td>0.0</td>\n",
       "      <td>24.0</td>\n",
       "    </tr>\n",
       "    <tr>\n",
       "      <th>mean</th>\n",
       "      <td>602.083333</td>\n",
       "      <td>NaN</td>\n",
       "      <td>NaN</td>\n",
       "      <td>264291.0</td>\n",
       "    </tr>\n",
       "    <tr>\n",
       "      <th>std</th>\n",
       "      <td>316.112242</td>\n",
       "      <td>NaN</td>\n",
       "      <td>NaN</td>\n",
       "      <td>0.0</td>\n",
       "    </tr>\n",
       "    <tr>\n",
       "      <th>min</th>\n",
       "      <td>139.000000</td>\n",
       "      <td>NaN</td>\n",
       "      <td>NaN</td>\n",
       "      <td>264291.0</td>\n",
       "    </tr>\n",
       "    <tr>\n",
       "      <th>25%</th>\n",
       "      <td>345.000000</td>\n",
       "      <td>NaN</td>\n",
       "      <td>NaN</td>\n",
       "      <td>264291.0</td>\n",
       "    </tr>\n",
       "    <tr>\n",
       "      <th>50%</th>\n",
       "      <td>599.500000</td>\n",
       "      <td>NaN</td>\n",
       "      <td>NaN</td>\n",
       "      <td>264291.0</td>\n",
       "    </tr>\n",
       "    <tr>\n",
       "      <th>75%</th>\n",
       "      <td>818.250000</td>\n",
       "      <td>NaN</td>\n",
       "      <td>NaN</td>\n",
       "      <td>264291.0</td>\n",
       "    </tr>\n",
       "    <tr>\n",
       "      <th>max</th>\n",
       "      <td>1392.000000</td>\n",
       "      <td>NaN</td>\n",
       "      <td>NaN</td>\n",
       "      <td>264291.0</td>\n",
       "    </tr>\n",
       "  </tbody>\n",
       "</table>\n",
       "</div>"
      ],
      "text/plain": [
       "       duration_sec  start_station_id  end_station_id   bike_id\n",
       "count     24.000000               0.0             0.0      24.0\n",
       "mean     602.083333               NaN             NaN  264291.0\n",
       "std      316.112242               NaN             NaN       0.0\n",
       "min      139.000000               NaN             NaN  264291.0\n",
       "25%      345.000000               NaN             NaN  264291.0\n",
       "50%      599.500000               NaN             NaN  264291.0\n",
       "75%      818.250000               NaN             NaN  264291.0\n",
       "max     1392.000000               NaN             NaN  264291.0"
      ]
     },
     "execution_count": 24,
     "metadata": {},
     "output_type": "execute_result"
    }
   ],
   "source": [
    "duplicate_ford_df_rows.query('bike_id == 264291.0').describe()"
   ]
  },
  {
   "cell_type": "code",
   "execution_count": 25,
   "metadata": {},
   "outputs": [
    {
     "data": {
      "text/html": [
       "<div>\n",
       "<style scoped>\n",
       "    .dataframe tbody tr th:only-of-type {\n",
       "        vertical-align: middle;\n",
       "    }\n",
       "\n",
       "    .dataframe tbody tr th {\n",
       "        vertical-align: top;\n",
       "    }\n",
       "\n",
       "    .dataframe thead th {\n",
       "        text-align: right;\n",
       "    }\n",
       "</style>\n",
       "<table border=\"1\" class=\"dataframe\">\n",
       "  <thead>\n",
       "    <tr style=\"text-align: right;\">\n",
       "      <th></th>\n",
       "      <th>duration_sec</th>\n",
       "      <th>start_time</th>\n",
       "      <th>end_time</th>\n",
       "      <th>start_station_id</th>\n",
       "      <th>end_station_id</th>\n",
       "      <th>bike_id</th>\n",
       "      <th>user_type</th>\n",
       "      <th>bike_share_for_all_trip</th>\n",
       "      <th>ride_id</th>\n",
       "      <th>rideable_type</th>\n",
       "      <th>started_at</th>\n",
       "      <th>ended_at</th>\n",
       "      <th>member_casual</th>\n",
       "      <th>rental_access_method</th>\n",
       "    </tr>\n",
       "  </thead>\n",
       "  <tbody>\n",
       "    <tr>\n",
       "      <th>1907480</th>\n",
       "      <td>315.0</td>\n",
       "      <td>2020-03-01 15:42:40</td>\n",
       "      <td>2020-03-01 15:47:56</td>\n",
       "      <td>NaN</td>\n",
       "      <td>NaN</td>\n",
       "      <td>264291.0</td>\n",
       "      <td>Subscriber</td>\n",
       "      <td>NaN</td>\n",
       "      <td>NaN</td>\n",
       "      <td>NaN</td>\n",
       "      <td>NaT</td>\n",
       "      <td>NaT</td>\n",
       "      <td>NaN</td>\n",
       "      <td>app</td>\n",
       "    </tr>\n",
       "    <tr>\n",
       "      <th>1884893</th>\n",
       "      <td>446.0</td>\n",
       "      <td>2020-03-01 16:04:54</td>\n",
       "      <td>2020-03-01 16:12:20</td>\n",
       "      <td>NaN</td>\n",
       "      <td>NaN</td>\n",
       "      <td>264291.0</td>\n",
       "      <td>Subscriber</td>\n",
       "      <td>NaN</td>\n",
       "      <td>NaN</td>\n",
       "      <td>NaN</td>\n",
       "      <td>NaT</td>\n",
       "      <td>NaT</td>\n",
       "      <td>NaN</td>\n",
       "      <td>app</td>\n",
       "    </tr>\n",
       "    <tr>\n",
       "      <th>1912576</th>\n",
       "      <td>819.0</td>\n",
       "      <td>2020-03-01 15:49:26</td>\n",
       "      <td>2020-03-01 16:03:06</td>\n",
       "      <td>NaN</td>\n",
       "      <td>NaN</td>\n",
       "      <td>264291.0</td>\n",
       "      <td>Subscriber</td>\n",
       "      <td>NaN</td>\n",
       "      <td>NaN</td>\n",
       "      <td>NaN</td>\n",
       "      <td>NaT</td>\n",
       "      <td>NaT</td>\n",
       "      <td>NaN</td>\n",
       "      <td>app</td>\n",
       "    </tr>\n",
       "    <tr>\n",
       "      <th>1883892</th>\n",
       "      <td>353.0</td>\n",
       "      <td>2020-03-01 11:34:58</td>\n",
       "      <td>2020-03-01 11:40:52</td>\n",
       "      <td>NaN</td>\n",
       "      <td>NaN</td>\n",
       "      <td>264291.0</td>\n",
       "      <td>Subscriber</td>\n",
       "      <td>NaN</td>\n",
       "      <td>NaN</td>\n",
       "      <td>NaN</td>\n",
       "      <td>NaT</td>\n",
       "      <td>NaT</td>\n",
       "      <td>NaN</td>\n",
       "      <td>app</td>\n",
       "    </tr>\n",
       "    <tr>\n",
       "      <th>1875668</th>\n",
       "      <td>559.0</td>\n",
       "      <td>2020-03-01 14:50:27</td>\n",
       "      <td>2020-03-01 14:59:47</td>\n",
       "      <td>NaN</td>\n",
       "      <td>NaN</td>\n",
       "      <td>264291.0</td>\n",
       "      <td>Subscriber</td>\n",
       "      <td>NaN</td>\n",
       "      <td>NaN</td>\n",
       "      <td>NaN</td>\n",
       "      <td>NaT</td>\n",
       "      <td>NaT</td>\n",
       "      <td>NaN</td>\n",
       "      <td>app</td>\n",
       "    </tr>\n",
       "  </tbody>\n",
       "</table>\n",
       "</div>"
      ],
      "text/plain": [
       "         duration_sec          start_time            end_time  \\\n",
       "1907480         315.0 2020-03-01 15:42:40 2020-03-01 15:47:56   \n",
       "1884893         446.0 2020-03-01 16:04:54 2020-03-01 16:12:20   \n",
       "1912576         819.0 2020-03-01 15:49:26 2020-03-01 16:03:06   \n",
       "1883892         353.0 2020-03-01 11:34:58 2020-03-01 11:40:52   \n",
       "1875668         559.0 2020-03-01 14:50:27 2020-03-01 14:59:47   \n",
       "\n",
       "         start_station_id  end_station_id   bike_id   user_type  \\\n",
       "1907480               NaN             NaN  264291.0  Subscriber   \n",
       "1884893               NaN             NaN  264291.0  Subscriber   \n",
       "1912576               NaN             NaN  264291.0  Subscriber   \n",
       "1883892               NaN             NaN  264291.0  Subscriber   \n",
       "1875668               NaN             NaN  264291.0  Subscriber   \n",
       "\n",
       "        bike_share_for_all_trip ride_id rideable_type started_at ended_at  \\\n",
       "1907480                     NaN     NaN           NaN        NaT      NaT   \n",
       "1884893                     NaN     NaN           NaN        NaT      NaT   \n",
       "1912576                     NaN     NaN           NaN        NaT      NaT   \n",
       "1883892                     NaN     NaN           NaN        NaT      NaT   \n",
       "1875668                     NaN     NaN           NaN        NaT      NaT   \n",
       "\n",
       "        member_casual rental_access_method  \n",
       "1907480           NaN                  app  \n",
       "1884893           NaN                  app  \n",
       "1912576           NaN                  app  \n",
       "1883892           NaN                  app  \n",
       "1875668           NaN                  app  "
      ]
     },
     "execution_count": 25,
     "metadata": {},
     "output_type": "execute_result"
    }
   ],
   "source": [
    "duplicate_ford_df_rows.query('bike_id == 264291.0').sample(5)"
   ]
  },
  {
   "cell_type": "markdown",
   "metadata": {},
   "source": [
    "- All the values in the `duration_sec` are different, hence I conclude there are no redudant / duplicate rows in the `duplicate_ford_df_rows` which is the subset of `duplicated` rows from dataframe `ford_df`."
   ]
  },
  {
   "cell_type": "markdown",
   "metadata": {},
   "source": [
    "#### Fixing the two columns with same data `started_at` and `start_time`\n",
    "- update the column `start_time` with all the values in column `started_at` \n",
    "- delete the column `started_at`\n",
    "- update the column `end_time` with all the values in column `ended_at` \n",
    "- delete the column `ended_at`"
   ]
  },
  {
   "cell_type": "code",
   "execution_count": 26,
   "metadata": {},
   "outputs": [],
   "source": [
    "ford_df['start_time'] = ford_df['start_time'].combine_first(ford_df['started_at'])\n",
    "ford_df['end_time'] = ford_df['end_time'].combine_first(ford_df['ended_at'])"
   ]
  },
  {
   "cell_type": "code",
   "execution_count": 27,
   "metadata": {},
   "outputs": [
    {
     "data": {
      "text/html": [
       "<div>\n",
       "<style scoped>\n",
       "    .dataframe tbody tr th:only-of-type {\n",
       "        vertical-align: middle;\n",
       "    }\n",
       "\n",
       "    .dataframe tbody tr th {\n",
       "        vertical-align: top;\n",
       "    }\n",
       "\n",
       "    .dataframe thead th {\n",
       "        text-align: right;\n",
       "    }\n",
       "</style>\n",
       "<table border=\"1\" class=\"dataframe\">\n",
       "  <thead>\n",
       "    <tr style=\"text-align: right;\">\n",
       "      <th></th>\n",
       "      <th>duration_sec</th>\n",
       "      <th>start_time</th>\n",
       "      <th>end_time</th>\n",
       "      <th>start_station_id</th>\n",
       "      <th>end_station_id</th>\n",
       "      <th>bike_id</th>\n",
       "      <th>user_type</th>\n",
       "      <th>bike_share_for_all_trip</th>\n",
       "      <th>ride_id</th>\n",
       "      <th>rideable_type</th>\n",
       "      <th>started_at</th>\n",
       "      <th>ended_at</th>\n",
       "      <th>member_casual</th>\n",
       "      <th>rental_access_method</th>\n",
       "    </tr>\n",
       "  </thead>\n",
       "  <tbody>\n",
       "    <tr>\n",
       "      <th>450715</th>\n",
       "      <td>NaN</td>\n",
       "      <td>2020-06-26 09:43:32.000</td>\n",
       "      <td>2020-06-26 10:00:37.000</td>\n",
       "      <td>457.0</td>\n",
       "      <td>NaN</td>\n",
       "      <td>NaN</td>\n",
       "      <td>NaN</td>\n",
       "      <td>NaN</td>\n",
       "      <td>AA437A85FE53DA7D</td>\n",
       "      <td>electric_bike</td>\n",
       "      <td>2020-06-26 09:43:32</td>\n",
       "      <td>2020-06-26 10:00:37</td>\n",
       "      <td>casual</td>\n",
       "      <td>NaN</td>\n",
       "    </tr>\n",
       "    <tr>\n",
       "      <th>2322505</th>\n",
       "      <td>NaN</td>\n",
       "      <td>2020-07-05 14:09:33.000</td>\n",
       "      <td>2020-07-05 14:38:43.000</td>\n",
       "      <td>NaN</td>\n",
       "      <td>NaN</td>\n",
       "      <td>NaN</td>\n",
       "      <td>NaN</td>\n",
       "      <td>NaN</td>\n",
       "      <td>5BC18253D90766F7</td>\n",
       "      <td>electric_bike</td>\n",
       "      <td>2020-07-05 14:09:33</td>\n",
       "      <td>2020-07-05 14:38:43</td>\n",
       "      <td>casual</td>\n",
       "      <td>NaN</td>\n",
       "    </tr>\n",
       "    <tr>\n",
       "      <th>880769</th>\n",
       "      <td>992.0</td>\n",
       "      <td>2020-01-16 16:48:08.000</td>\n",
       "      <td>2020-01-16 17:04:41.000</td>\n",
       "      <td>NaN</td>\n",
       "      <td>6.0</td>\n",
       "      <td>889955.0</td>\n",
       "      <td>Subscriber</td>\n",
       "      <td>NaN</td>\n",
       "      <td>NaN</td>\n",
       "      <td>NaN</td>\n",
       "      <td>NaT</td>\n",
       "      <td>NaT</td>\n",
       "      <td>NaN</td>\n",
       "      <td>app</td>\n",
       "    </tr>\n",
       "    <tr>\n",
       "      <th>2410762</th>\n",
       "      <td>NaN</td>\n",
       "      <td>2020-07-06 19:01:23.000</td>\n",
       "      <td>2020-07-06 19:10:35.000</td>\n",
       "      <td>177.0</td>\n",
       "      <td>175.0</td>\n",
       "      <td>NaN</td>\n",
       "      <td>NaN</td>\n",
       "      <td>NaN</td>\n",
       "      <td>F87AB31B605EAEEE</td>\n",
       "      <td>docked_bike</td>\n",
       "      <td>2020-07-06 19:01:23</td>\n",
       "      <td>2020-07-06 19:10:35</td>\n",
       "      <td>casual</td>\n",
       "      <td>NaN</td>\n",
       "    </tr>\n",
       "    <tr>\n",
       "      <th>2153524</th>\n",
       "      <td>635.0</td>\n",
       "      <td>2019-11-20 08:11:25.598</td>\n",
       "      <td>2019-11-20 08:22:01.085</td>\n",
       "      <td>43.0</td>\n",
       "      <td>101.0</td>\n",
       "      <td>244.0</td>\n",
       "      <td>Subscriber</td>\n",
       "      <td>No</td>\n",
       "      <td>NaN</td>\n",
       "      <td>NaN</td>\n",
       "      <td>NaT</td>\n",
       "      <td>NaT</td>\n",
       "      <td>NaN</td>\n",
       "      <td>NaN</td>\n",
       "    </tr>\n",
       "    <tr>\n",
       "      <th>1406462</th>\n",
       "      <td>594.0</td>\n",
       "      <td>2020-02-05 08:41:12.000</td>\n",
       "      <td>2020-02-05 08:51:06.000</td>\n",
       "      <td>NaN</td>\n",
       "      <td>NaN</td>\n",
       "      <td>539344.0</td>\n",
       "      <td>Subscriber</td>\n",
       "      <td>NaN</td>\n",
       "      <td>NaN</td>\n",
       "      <td>NaN</td>\n",
       "      <td>NaT</td>\n",
       "      <td>NaT</td>\n",
       "      <td>NaN</td>\n",
       "      <td>app</td>\n",
       "    </tr>\n",
       "    <tr>\n",
       "      <th>1452048</th>\n",
       "      <td>1212.0</td>\n",
       "      <td>2020-02-26 07:58:28.000</td>\n",
       "      <td>2020-02-26 08:18:40.000</td>\n",
       "      <td>NaN</td>\n",
       "      <td>NaN</td>\n",
       "      <td>474181.0</td>\n",
       "      <td>Subscriber</td>\n",
       "      <td>NaN</td>\n",
       "      <td>NaN</td>\n",
       "      <td>NaN</td>\n",
       "      <td>NaT</td>\n",
       "      <td>NaT</td>\n",
       "      <td>NaN</td>\n",
       "      <td>app</td>\n",
       "    </tr>\n",
       "    <tr>\n",
       "      <th>1148389</th>\n",
       "      <td>450.0</td>\n",
       "      <td>2020-02-24 18:42:38.679</td>\n",
       "      <td>2020-02-24 18:50:08.884</td>\n",
       "      <td>23.0</td>\n",
       "      <td>21.0</td>\n",
       "      <td>1886.0</td>\n",
       "      <td>Customer</td>\n",
       "      <td>NaN</td>\n",
       "      <td>NaN</td>\n",
       "      <td>NaN</td>\n",
       "      <td>NaT</td>\n",
       "      <td>NaT</td>\n",
       "      <td>NaN</td>\n",
       "      <td>NaN</td>\n",
       "    </tr>\n",
       "    <tr>\n",
       "      <th>542179</th>\n",
       "      <td>NaN</td>\n",
       "      <td>2020-06-15 21:02:28.000</td>\n",
       "      <td>2020-06-15 21:19:44.000</td>\n",
       "      <td>91.0</td>\n",
       "      <td>370.0</td>\n",
       "      <td>NaN</td>\n",
       "      <td>NaN</td>\n",
       "      <td>NaN</td>\n",
       "      <td>D134A89AA9A96A1E</td>\n",
       "      <td>docked_bike</td>\n",
       "      <td>2020-06-15 21:02:28</td>\n",
       "      <td>2020-06-15 21:19:44</td>\n",
       "      <td>casual</td>\n",
       "      <td>NaN</td>\n",
       "    </tr>\n",
       "    <tr>\n",
       "      <th>1281200</th>\n",
       "      <td>321.0</td>\n",
       "      <td>2020-02-09 07:21:13.000</td>\n",
       "      <td>2020-02-09 07:26:35.000</td>\n",
       "      <td>NaN</td>\n",
       "      <td>144.0</td>\n",
       "      <td>256089.0</td>\n",
       "      <td>Subscriber</td>\n",
       "      <td>NaN</td>\n",
       "      <td>NaN</td>\n",
       "      <td>NaN</td>\n",
       "      <td>NaT</td>\n",
       "      <td>NaT</td>\n",
       "      <td>NaN</td>\n",
       "      <td>clipper</td>\n",
       "    </tr>\n",
       "  </tbody>\n",
       "</table>\n",
       "</div>"
      ],
      "text/plain": [
       "         duration_sec              start_time                end_time  \\\n",
       "450715            NaN 2020-06-26 09:43:32.000 2020-06-26 10:00:37.000   \n",
       "2322505           NaN 2020-07-05 14:09:33.000 2020-07-05 14:38:43.000   \n",
       "880769          992.0 2020-01-16 16:48:08.000 2020-01-16 17:04:41.000   \n",
       "2410762           NaN 2020-07-06 19:01:23.000 2020-07-06 19:10:35.000   \n",
       "2153524         635.0 2019-11-20 08:11:25.598 2019-11-20 08:22:01.085   \n",
       "1406462         594.0 2020-02-05 08:41:12.000 2020-02-05 08:51:06.000   \n",
       "1452048        1212.0 2020-02-26 07:58:28.000 2020-02-26 08:18:40.000   \n",
       "1148389         450.0 2020-02-24 18:42:38.679 2020-02-24 18:50:08.884   \n",
       "542179            NaN 2020-06-15 21:02:28.000 2020-06-15 21:19:44.000   \n",
       "1281200         321.0 2020-02-09 07:21:13.000 2020-02-09 07:26:35.000   \n",
       "\n",
       "         start_station_id  end_station_id   bike_id   user_type  \\\n",
       "450715              457.0             NaN       NaN         NaN   \n",
       "2322505               NaN             NaN       NaN         NaN   \n",
       "880769                NaN             6.0  889955.0  Subscriber   \n",
       "2410762             177.0           175.0       NaN         NaN   \n",
       "2153524              43.0           101.0     244.0  Subscriber   \n",
       "1406462               NaN             NaN  539344.0  Subscriber   \n",
       "1452048               NaN             NaN  474181.0  Subscriber   \n",
       "1148389              23.0            21.0    1886.0    Customer   \n",
       "542179               91.0           370.0       NaN         NaN   \n",
       "1281200               NaN           144.0  256089.0  Subscriber   \n",
       "\n",
       "        bike_share_for_all_trip           ride_id  rideable_type  \\\n",
       "450715                      NaN  AA437A85FE53DA7D  electric_bike   \n",
       "2322505                     NaN  5BC18253D90766F7  electric_bike   \n",
       "880769                      NaN               NaN            NaN   \n",
       "2410762                     NaN  F87AB31B605EAEEE    docked_bike   \n",
       "2153524                      No               NaN            NaN   \n",
       "1406462                     NaN               NaN            NaN   \n",
       "1452048                     NaN               NaN            NaN   \n",
       "1148389                     NaN               NaN            NaN   \n",
       "542179                      NaN  D134A89AA9A96A1E    docked_bike   \n",
       "1281200                     NaN               NaN            NaN   \n",
       "\n",
       "                 started_at            ended_at member_casual  \\\n",
       "450715  2020-06-26 09:43:32 2020-06-26 10:00:37        casual   \n",
       "2322505 2020-07-05 14:09:33 2020-07-05 14:38:43        casual   \n",
       "880769                  NaT                 NaT           NaN   \n",
       "2410762 2020-07-06 19:01:23 2020-07-06 19:10:35        casual   \n",
       "2153524                 NaT                 NaT           NaN   \n",
       "1406462                 NaT                 NaT           NaN   \n",
       "1452048                 NaT                 NaT           NaN   \n",
       "1148389                 NaT                 NaT           NaN   \n",
       "542179  2020-06-15 21:02:28 2020-06-15 21:19:44        casual   \n",
       "1281200                 NaT                 NaT           NaN   \n",
       "\n",
       "        rental_access_method  \n",
       "450715                   NaN  \n",
       "2322505                  NaN  \n",
       "880769                   app  \n",
       "2410762                  NaN  \n",
       "2153524                  NaN  \n",
       "1406462                  app  \n",
       "1452048                  app  \n",
       "1148389                  NaN  \n",
       "542179                   NaN  \n",
       "1281200              clipper  "
      ]
     },
     "execution_count": 27,
     "metadata": {},
     "output_type": "execute_result"
    }
   ],
   "source": [
    "ford_df.sample(10)"
   ]
  },
  {
   "cell_type": "markdown",
   "metadata": {},
   "source": [
    "- Now we create the columns to contain the `year`, `month` and `day` values when the bike was hired."
   ]
  },
  {
   "cell_type": "code",
   "execution_count": 28,
   "metadata": {},
   "outputs": [],
   "source": [
    "ford_df['year'] = ford_df['start_time'].dt.strftime('%Y')\n",
    "ford_df['month'] = ford_df['start_time'].dt.strftime('%m')\n",
    "ford_df['day'] = ford_df['start_time'].dt.strftime('%d')\n",
    "ford_df['month_year'] = ford_df['start_time'].dt.strftime('%Y-%m')\n",
    "ford_df['hour'] = ford_df['start_time'].dt.strftime('%H')"
   ]
  },
  {
   "cell_type": "markdown",
   "metadata": {},
   "source": [
    "- Now we have five formats of date representation into the dataframe, why not just one more column with the day of the week when the bike was hired. "
   ]
  },
  {
   "cell_type": "code",
   "execution_count": 29,
   "metadata": {},
   "outputs": [],
   "source": [
    "ford_df['day_of_week'] = ford_df['start_time'].dt.strftime('%a')"
   ]
  },
  {
   "cell_type": "code",
   "execution_count": 30,
   "metadata": {},
   "outputs": [],
   "source": [
    "# Drop the columns `started_at` and `ended_at`\n",
    "ford_df.drop(columns=['started_at', 'ended_at'], inplace=True)"
   ]
  },
  {
   "cell_type": "code",
   "execution_count": 31,
   "metadata": {},
   "outputs": [
    {
     "data": {
      "text/html": [
       "<div>\n",
       "<style scoped>\n",
       "    .dataframe tbody tr th:only-of-type {\n",
       "        vertical-align: middle;\n",
       "    }\n",
       "\n",
       "    .dataframe tbody tr th {\n",
       "        vertical-align: top;\n",
       "    }\n",
       "\n",
       "    .dataframe thead th {\n",
       "        text-align: right;\n",
       "    }\n",
       "</style>\n",
       "<table border=\"1\" class=\"dataframe\">\n",
       "  <thead>\n",
       "    <tr style=\"text-align: right;\">\n",
       "      <th></th>\n",
       "      <th>duration_sec</th>\n",
       "      <th>start_time</th>\n",
       "      <th>end_time</th>\n",
       "      <th>start_station_id</th>\n",
       "      <th>end_station_id</th>\n",
       "      <th>bike_id</th>\n",
       "      <th>user_type</th>\n",
       "      <th>bike_share_for_all_trip</th>\n",
       "      <th>ride_id</th>\n",
       "      <th>rideable_type</th>\n",
       "      <th>member_casual</th>\n",
       "      <th>rental_access_method</th>\n",
       "      <th>year</th>\n",
       "      <th>month</th>\n",
       "      <th>day</th>\n",
       "      <th>month_year</th>\n",
       "      <th>hour</th>\n",
       "      <th>day_of_week</th>\n",
       "    </tr>\n",
       "  </thead>\n",
       "  <tbody>\n",
       "    <tr>\n",
       "      <th>1670052</th>\n",
       "      <td>NaN</td>\n",
       "      <td>2020-05-29 07:44:05.000</td>\n",
       "      <td>2020-05-29 08:02:42.000</td>\n",
       "      <td>NaN</td>\n",
       "      <td>NaN</td>\n",
       "      <td>NaN</td>\n",
       "      <td>NaN</td>\n",
       "      <td>NaN</td>\n",
       "      <td>C4F171DFDFE3C298</td>\n",
       "      <td>electric_bike</td>\n",
       "      <td>casual</td>\n",
       "      <td>NaN</td>\n",
       "      <td>2020</td>\n",
       "      <td>05</td>\n",
       "      <td>29</td>\n",
       "      <td>2020-05</td>\n",
       "      <td>07</td>\n",
       "      <td>Fri</td>\n",
       "    </tr>\n",
       "    <tr>\n",
       "      <th>1210006</th>\n",
       "      <td>689.0</td>\n",
       "      <td>2020-02-08 17:03:22.651</td>\n",
       "      <td>2020-02-08 17:14:52.428</td>\n",
       "      <td>41.0</td>\n",
       "      <td>446.0</td>\n",
       "      <td>2669.0</td>\n",
       "      <td>Subscriber</td>\n",
       "      <td>NaN</td>\n",
       "      <td>NaN</td>\n",
       "      <td>NaN</td>\n",
       "      <td>NaN</td>\n",
       "      <td>NaN</td>\n",
       "      <td>2020</td>\n",
       "      <td>02</td>\n",
       "      <td>08</td>\n",
       "      <td>2020-02</td>\n",
       "      <td>17</td>\n",
       "      <td>Sat</td>\n",
       "    </tr>\n",
       "    <tr>\n",
       "      <th>1572458</th>\n",
       "      <td>NaN</td>\n",
       "      <td>2020-05-19 13:41:50.000</td>\n",
       "      <td>2020-05-19 13:52:59.000</td>\n",
       "      <td>NaN</td>\n",
       "      <td>122.0</td>\n",
       "      <td>NaN</td>\n",
       "      <td>NaN</td>\n",
       "      <td>NaN</td>\n",
       "      <td>DC179102C6B3FB57</td>\n",
       "      <td>electric_bike</td>\n",
       "      <td>member</td>\n",
       "      <td>NaN</td>\n",
       "      <td>2020</td>\n",
       "      <td>05</td>\n",
       "      <td>19</td>\n",
       "      <td>2020-05</td>\n",
       "      <td>13</td>\n",
       "      <td>Tue</td>\n",
       "    </tr>\n",
       "    <tr>\n",
       "      <th>1134618</th>\n",
       "      <td>976.0</td>\n",
       "      <td>2020-02-27 08:43:39.145</td>\n",
       "      <td>2020-02-27 08:59:55.856</td>\n",
       "      <td>189.0</td>\n",
       "      <td>239.0</td>\n",
       "      <td>11447.0</td>\n",
       "      <td>Subscriber</td>\n",
       "      <td>NaN</td>\n",
       "      <td>NaN</td>\n",
       "      <td>NaN</td>\n",
       "      <td>NaN</td>\n",
       "      <td>NaN</td>\n",
       "      <td>2020</td>\n",
       "      <td>02</td>\n",
       "      <td>27</td>\n",
       "      <td>2020-02</td>\n",
       "      <td>08</td>\n",
       "      <td>Thu</td>\n",
       "    </tr>\n",
       "    <tr>\n",
       "      <th>506083</th>\n",
       "      <td>NaN</td>\n",
       "      <td>2020-06-13 17:56:47.000</td>\n",
       "      <td>2020-06-13 18:02:16.000</td>\n",
       "      <td>NaN</td>\n",
       "      <td>NaN</td>\n",
       "      <td>NaN</td>\n",
       "      <td>NaN</td>\n",
       "      <td>NaN</td>\n",
       "      <td>B5EE1F24C73C972F</td>\n",
       "      <td>electric_bike</td>\n",
       "      <td>member</td>\n",
       "      <td>NaN</td>\n",
       "      <td>2020</td>\n",
       "      <td>06</td>\n",
       "      <td>13</td>\n",
       "      <td>2020-06</td>\n",
       "      <td>17</td>\n",
       "      <td>Sat</td>\n",
       "    </tr>\n",
       "    <tr>\n",
       "      <th>454175</th>\n",
       "      <td>NaN</td>\n",
       "      <td>2020-06-22 14:02:05.000</td>\n",
       "      <td>2020-06-22 14:28:25.000</td>\n",
       "      <td>NaN</td>\n",
       "      <td>440.0</td>\n",
       "      <td>NaN</td>\n",
       "      <td>NaN</td>\n",
       "      <td>NaN</td>\n",
       "      <td>D374A544B25B9324</td>\n",
       "      <td>electric_bike</td>\n",
       "      <td>casual</td>\n",
       "      <td>NaN</td>\n",
       "      <td>2020</td>\n",
       "      <td>06</td>\n",
       "      <td>22</td>\n",
       "      <td>2020-06</td>\n",
       "      <td>14</td>\n",
       "      <td>Mon</td>\n",
       "    </tr>\n",
       "    <tr>\n",
       "      <th>439143</th>\n",
       "      <td>NaN</td>\n",
       "      <td>2020-06-11 08:45:39.000</td>\n",
       "      <td>2020-06-11 09:01:16.000</td>\n",
       "      <td>NaN</td>\n",
       "      <td>NaN</td>\n",
       "      <td>NaN</td>\n",
       "      <td>NaN</td>\n",
       "      <td>NaN</td>\n",
       "      <td>D99D72FC65789E9A</td>\n",
       "      <td>electric_bike</td>\n",
       "      <td>casual</td>\n",
       "      <td>NaN</td>\n",
       "      <td>2020</td>\n",
       "      <td>06</td>\n",
       "      <td>11</td>\n",
       "      <td>2020-06</td>\n",
       "      <td>08</td>\n",
       "      <td>Thu</td>\n",
       "    </tr>\n",
       "    <tr>\n",
       "      <th>549028</th>\n",
       "      <td>NaN</td>\n",
       "      <td>2020-06-21 12:50:11.000</td>\n",
       "      <td>2020-06-21 12:50:41.000</td>\n",
       "      <td>511.0</td>\n",
       "      <td>511.0</td>\n",
       "      <td>NaN</td>\n",
       "      <td>NaN</td>\n",
       "      <td>NaN</td>\n",
       "      <td>16597B3A4E31D8F6</td>\n",
       "      <td>docked_bike</td>\n",
       "      <td>member</td>\n",
       "      <td>NaN</td>\n",
       "      <td>2020</td>\n",
       "      <td>06</td>\n",
       "      <td>21</td>\n",
       "      <td>2020-06</td>\n",
       "      <td>12</td>\n",
       "      <td>Sun</td>\n",
       "    </tr>\n",
       "    <tr>\n",
       "      <th>40053</th>\n",
       "      <td>1265.0</td>\n",
       "      <td>2019-09-25 11:38:01.455</td>\n",
       "      <td>2019-09-25 11:59:07.343</td>\n",
       "      <td>23.0</td>\n",
       "      <td>104.0</td>\n",
       "      <td>1901.0</td>\n",
       "      <td>Customer</td>\n",
       "      <td>No</td>\n",
       "      <td>NaN</td>\n",
       "      <td>NaN</td>\n",
       "      <td>NaN</td>\n",
       "      <td>NaN</td>\n",
       "      <td>2019</td>\n",
       "      <td>09</td>\n",
       "      <td>25</td>\n",
       "      <td>2019-09</td>\n",
       "      <td>11</td>\n",
       "      <td>Wed</td>\n",
       "    </tr>\n",
       "    <tr>\n",
       "      <th>2251038</th>\n",
       "      <td>238.0</td>\n",
       "      <td>2019-11-06 09:24:59.849</td>\n",
       "      <td>2019-11-06 09:28:58.133</td>\n",
       "      <td>196.0</td>\n",
       "      <td>337.0</td>\n",
       "      <td>9812.0</td>\n",
       "      <td>Subscriber</td>\n",
       "      <td>No</td>\n",
       "      <td>NaN</td>\n",
       "      <td>NaN</td>\n",
       "      <td>NaN</td>\n",
       "      <td>NaN</td>\n",
       "      <td>2019</td>\n",
       "      <td>11</td>\n",
       "      <td>06</td>\n",
       "      <td>2019-11</td>\n",
       "      <td>09</td>\n",
       "      <td>Wed</td>\n",
       "    </tr>\n",
       "  </tbody>\n",
       "</table>\n",
       "</div>"
      ],
      "text/plain": [
       "         duration_sec              start_time                end_time  \\\n",
       "1670052           NaN 2020-05-29 07:44:05.000 2020-05-29 08:02:42.000   \n",
       "1210006         689.0 2020-02-08 17:03:22.651 2020-02-08 17:14:52.428   \n",
       "1572458           NaN 2020-05-19 13:41:50.000 2020-05-19 13:52:59.000   \n",
       "1134618         976.0 2020-02-27 08:43:39.145 2020-02-27 08:59:55.856   \n",
       "506083            NaN 2020-06-13 17:56:47.000 2020-06-13 18:02:16.000   \n",
       "454175            NaN 2020-06-22 14:02:05.000 2020-06-22 14:28:25.000   \n",
       "439143            NaN 2020-06-11 08:45:39.000 2020-06-11 09:01:16.000   \n",
       "549028            NaN 2020-06-21 12:50:11.000 2020-06-21 12:50:41.000   \n",
       "40053          1265.0 2019-09-25 11:38:01.455 2019-09-25 11:59:07.343   \n",
       "2251038         238.0 2019-11-06 09:24:59.849 2019-11-06 09:28:58.133   \n",
       "\n",
       "         start_station_id  end_station_id  bike_id   user_type  \\\n",
       "1670052               NaN             NaN      NaN         NaN   \n",
       "1210006              41.0           446.0   2669.0  Subscriber   \n",
       "1572458               NaN           122.0      NaN         NaN   \n",
       "1134618             189.0           239.0  11447.0  Subscriber   \n",
       "506083                NaN             NaN      NaN         NaN   \n",
       "454175                NaN           440.0      NaN         NaN   \n",
       "439143                NaN             NaN      NaN         NaN   \n",
       "549028              511.0           511.0      NaN         NaN   \n",
       "40053                23.0           104.0   1901.0    Customer   \n",
       "2251038             196.0           337.0   9812.0  Subscriber   \n",
       "\n",
       "        bike_share_for_all_trip           ride_id  rideable_type  \\\n",
       "1670052                     NaN  C4F171DFDFE3C298  electric_bike   \n",
       "1210006                     NaN               NaN            NaN   \n",
       "1572458                     NaN  DC179102C6B3FB57  electric_bike   \n",
       "1134618                     NaN               NaN            NaN   \n",
       "506083                      NaN  B5EE1F24C73C972F  electric_bike   \n",
       "454175                      NaN  D374A544B25B9324  electric_bike   \n",
       "439143                      NaN  D99D72FC65789E9A  electric_bike   \n",
       "549028                      NaN  16597B3A4E31D8F6    docked_bike   \n",
       "40053                        No               NaN            NaN   \n",
       "2251038                      No               NaN            NaN   \n",
       "\n",
       "        member_casual rental_access_method  year month day month_year hour  \\\n",
       "1670052        casual                  NaN  2020    05  29    2020-05   07   \n",
       "1210006           NaN                  NaN  2020    02  08    2020-02   17   \n",
       "1572458        member                  NaN  2020    05  19    2020-05   13   \n",
       "1134618           NaN                  NaN  2020    02  27    2020-02   08   \n",
       "506083         member                  NaN  2020    06  13    2020-06   17   \n",
       "454175         casual                  NaN  2020    06  22    2020-06   14   \n",
       "439143         casual                  NaN  2020    06  11    2020-06   08   \n",
       "549028         member                  NaN  2020    06  21    2020-06   12   \n",
       "40053             NaN                  NaN  2019    09  25    2019-09   11   \n",
       "2251038           NaN                  NaN  2019    11  06    2019-11   09   \n",
       "\n",
       "        day_of_week  \n",
       "1670052         Fri  \n",
       "1210006         Sat  \n",
       "1572458         Tue  \n",
       "1134618         Thu  \n",
       "506083          Sat  \n",
       "454175          Mon  \n",
       "439143          Thu  \n",
       "549028          Sun  \n",
       "40053           Wed  \n",
       "2251038         Wed  "
      ]
     },
     "execution_count": 31,
     "metadata": {},
     "output_type": "execute_result"
    }
   ],
   "source": [
    "ford_df.sample(10)"
   ]
  },
  {
   "cell_type": "markdown",
   "metadata": {},
   "source": [
    "**Verified** : The values for each of above column looks correct."
   ]
  },
  {
   "cell_type": "markdown",
   "metadata": {},
   "source": [
    "#### Fixing the redudant columns `user_type` and `member_causal`\n",
    "- replace the `member` with `Subscriber` string\n",
    "- replace the `casual` with `Customer` string\n",
    "- merge the two columns into one."
   ]
  },
  {
   "cell_type": "code",
   "execution_count": 32,
   "metadata": {},
   "outputs": [],
   "source": [
    "ford_df['member_casual'] = ford_df['member_casual'].replace('member', 'Subscriber')\n",
    "ford_df['member_casual'] = ford_df['member_casual'].replace('casual', 'Customer')"
   ]
  },
  {
   "cell_type": "markdown",
   "metadata": {},
   "source": [
    "- Now that we have replaced the strings in the column `member_casual`, next we merge it to the `user_type` column."
   ]
  },
  {
   "cell_type": "code",
   "execution_count": 33,
   "metadata": {},
   "outputs": [
    {
     "data": {
      "text/plain": [
       "Customer      319097\n",
       "Subscriber    216548\n",
       "Name: member_casual, dtype: int64"
      ]
     },
     "execution_count": 33,
     "metadata": {},
     "output_type": "execute_result"
    }
   ],
   "source": [
    "# Listing the number of the values before we merged so that we verfiy the Summation later\n",
    "ford_df['member_casual'].value_counts()"
   ]
  },
  {
   "cell_type": "code",
   "execution_count": 34,
   "metadata": {},
   "outputs": [
    {
     "data": {
      "text/plain": [
       "Subscriber    1282009\n",
       "Customer       627040\n",
       "Name: user_type, dtype: int64"
      ]
     },
     "execution_count": 34,
     "metadata": {},
     "output_type": "execute_result"
    }
   ],
   "source": [
    "# Listing the number of the values before we merged so that we verfiy the Summation later\n",
    "ford_df['user_type'].value_counts()"
   ]
  },
  {
   "cell_type": "code",
   "execution_count": 35,
   "metadata": {},
   "outputs": [],
   "source": [
    "# Merge the two columns\n",
    "ford_df['user_type'] = ford_df['user_type'].combine_first(ford_df['member_casual'])"
   ]
  },
  {
   "cell_type": "code",
   "execution_count": 36,
   "metadata": {},
   "outputs": [
    {
     "data": {
      "text/plain": [
       "Subscriber    1498557\n",
       "Customer       946137\n",
       "Name: user_type, dtype: int64"
      ]
     },
     "execution_count": 36,
     "metadata": {},
     "output_type": "execute_result"
    }
   ],
   "source": [
    "# Verify the total number of the Subcriber and Customer values are total of values from both the columns.\n",
    "ford_df['user_type'].value_counts()"
   ]
  },
  {
   "cell_type": "code",
   "execution_count": 37,
   "metadata": {},
   "outputs": [
    {
     "data": {
      "text/html": [
       "<div>\n",
       "<style scoped>\n",
       "    .dataframe tbody tr th:only-of-type {\n",
       "        vertical-align: middle;\n",
       "    }\n",
       "\n",
       "    .dataframe tbody tr th {\n",
       "        vertical-align: top;\n",
       "    }\n",
       "\n",
       "    .dataframe thead th {\n",
       "        text-align: right;\n",
       "    }\n",
       "</style>\n",
       "<table border=\"1\" class=\"dataframe\">\n",
       "  <thead>\n",
       "    <tr style=\"text-align: right;\">\n",
       "      <th></th>\n",
       "      <th>user_type</th>\n",
       "      <th>member_casual</th>\n",
       "    </tr>\n",
       "  </thead>\n",
       "  <tbody>\n",
       "    <tr>\n",
       "      <th>1116976</th>\n",
       "      <td>Subscriber</td>\n",
       "      <td>NaN</td>\n",
       "    </tr>\n",
       "    <tr>\n",
       "      <th>1831998</th>\n",
       "      <td>Customer</td>\n",
       "      <td>NaN</td>\n",
       "    </tr>\n",
       "    <tr>\n",
       "      <th>1442775</th>\n",
       "      <td>Subscriber</td>\n",
       "      <td>NaN</td>\n",
       "    </tr>\n",
       "    <tr>\n",
       "      <th>2039117</th>\n",
       "      <td>Subscriber</td>\n",
       "      <td>NaN</td>\n",
       "    </tr>\n",
       "    <tr>\n",
       "      <th>687721</th>\n",
       "      <td>Subscriber</td>\n",
       "      <td>NaN</td>\n",
       "    </tr>\n",
       "    <tr>\n",
       "      <th>2135702</th>\n",
       "      <td>Customer</td>\n",
       "      <td>NaN</td>\n",
       "    </tr>\n",
       "    <tr>\n",
       "      <th>2049055</th>\n",
       "      <td>Subscriber</td>\n",
       "      <td>NaN</td>\n",
       "    </tr>\n",
       "    <tr>\n",
       "      <th>1659310</th>\n",
       "      <td>Customer</td>\n",
       "      <td>Customer</td>\n",
       "    </tr>\n",
       "    <tr>\n",
       "      <th>31704</th>\n",
       "      <td>Subscriber</td>\n",
       "      <td>NaN</td>\n",
       "    </tr>\n",
       "    <tr>\n",
       "      <th>2225596</th>\n",
       "      <td>Subscriber</td>\n",
       "      <td>NaN</td>\n",
       "    </tr>\n",
       "  </tbody>\n",
       "</table>\n",
       "</div>"
      ],
      "text/plain": [
       "          user_type member_casual\n",
       "1116976  Subscriber           NaN\n",
       "1831998    Customer           NaN\n",
       "1442775  Subscriber           NaN\n",
       "2039117  Subscriber           NaN\n",
       "687721   Subscriber           NaN\n",
       "2135702    Customer           NaN\n",
       "2049055  Subscriber           NaN\n",
       "1659310    Customer      Customer\n",
       "31704    Subscriber           NaN\n",
       "2225596  Subscriber           NaN"
      ]
     },
     "execution_count": 37,
     "metadata": {},
     "output_type": "execute_result"
    }
   ],
   "source": [
    "# Verify that the columns have been merged.\n",
    "ford_df[['user_type', 'member_casual']].sample(10)"
   ]
  },
  {
   "cell_type": "code",
   "execution_count": 38,
   "metadata": {},
   "outputs": [],
   "source": [
    "# Drop the `member_casual` column as it is not required now, all the strings \n",
    "# in it is merged with the other column `user_type`.\n",
    "ford_df.drop(columns=['member_casual'], inplace=True)"
   ]
  },
  {
   "cell_type": "markdown",
   "metadata": {},
   "source": [
    "#### `duration_sec` column values are in the seconds, will change them in to the mins\n",
    "- Also change the name of the header from `duration_sec` to `duration_mins`."
   ]
  },
  {
   "cell_type": "code",
   "execution_count": 39,
   "metadata": {},
   "outputs": [],
   "source": [
    "ford_df['duration_sec'] = ford_df['duration_sec'].div(60)"
   ]
  },
  {
   "cell_type": "code",
   "execution_count": 40,
   "metadata": {},
   "outputs": [],
   "source": [
    "# since we have converted the duration_seconds from seconds to minute \n",
    "# it would be better if we change the header name as well \n",
    "ford_df.rename(columns={'duration_sec': 'duration_mins'}, inplace=True)"
   ]
  },
  {
   "cell_type": "markdown",
   "metadata": {},
   "source": [
    "#### Save the dataframe into a master file.\n",
    "   - saving the dataframe into the file name `fordbike_master.csv`"
   ]
  },
  {
   "cell_type": "code",
   "execution_count": 41,
   "metadata": {},
   "outputs": [],
   "source": [
    "ford_df.to_csv('fordbike_master.csv', index=False)"
   ]
  },
  {
   "cell_type": "markdown",
   "metadata": {},
   "source": [
    "### Structure of the data?\n",
    "- 12 months of data from ford sharing bike app.\n",
    "- the data has all the columns as mentioned.\n",
    "- added columns `date`, `month` and `year` that contains the values when the bike was hired.\n",
    "- changed the `start_time` and `end_time` to the date object\n",
    "\n",
    "\n",
    "#### What is/are the main feature(s) of interest in your dataset?\n",
    "I' m interest to see what are the days/hours/months when riders use the bike more and what type of users ride longer? What are the ways they access the shared bike. I am also interested in looking into the data from the COVID-19 point of view, look at the data to see how the COVID-19 impacted the Bay Wheel in terms of their ridership among different tupes of the users.\n",
    "\n",
    "#### What features in the dataset do you think will help support your investigation into your feature(s) of interest?\n",
    "So, I have created new columns: <br/> \n",
    "`year` - contains the year, for example, 2019, 2020,<br/>\n",
    "`day_of_week` - contains the day, for example, 'Mon', Tues' <br/>\n",
    "`month_year` - contains the values of year and month combined, for example, '2019_12', 2020_01', <br/>\n",
    "`hour` - contains the hour when the bike was hired, for example, '01', '02', <br/>\n",
    "\n",
    "I am going to use the above created columns of data with other columns already in the dataset such as: <br/>\n",
    "`user_type` - tells me what type of user hired the bike `Subscriber` or casual `Customer`,\n",
    "`duration_mins` - duration of the ride in mins,\n",
    "`rideable_type` - type of bike `electric` or `docked`,\n",
    "`rental_access_method` - method used to hire the bike `clipper` or `App`.\n",
    "\n",
    "I will use above all columns to visualise the riders and their preference way of accessing bike, their preference of riding duration, and ride type. Again would keep in mind to assess the impact COVID-19 on all of these visualisation. "
   ]
  },
  {
   "cell_type": "markdown",
   "metadata": {},
   "source": [
    "### Univariate Visualisation:\n",
    "\n",
    "#### 1. Number of Bike Hires or Rides on monthly basis.\n",
    "> Interested to see what are the months when the riders hire the most and what is the trend and are the number of the riders increasing or decreasing. What is the impact of COVID-19 on ridership?"
   ]
  },
  {
   "cell_type": "code",
   "execution_count": 42,
   "metadata": {},
   "outputs": [
    {
     "data": {
      "text/plain": [
       "(array([ 0,  1,  2,  3,  4,  5,  6,  7,  8,  9, 10, 11]),\n",
       " <a list of 12 Text xticklabel objects>)"
      ]
     },
     "execution_count": 42,
     "metadata": {},
     "output_type": "execute_result"
    },
    {
     "data": {
      "image/png": "[encoded data removed]",
      "text/plain": [
       "<Figure size 360x360 with 1 Axes>"
      ]
     },
     "metadata": {
      "needs_background": "light"
     },
     "output_type": "display_data"
    }
   ],
   "source": [
    "graph = sb.catplot(data=ford_df.sort_values(by='month_year'), x='month_year', kind='count', color='orange')\n",
    "graph.set_axis_labels(\"Month\", \"No of bike hires\")\n",
    "graph.fig.suptitle('Monthly Bike rides Usage', y=1, fontsize=14, fontweight='semibold');\n",
    "plt.xticks(rotation = 45)"
   ]
  },
  {
   "cell_type": "markdown",
   "metadata": {},
   "source": [
    "### Observation (Covid-19 Impact):\n",
    "- Covid-19 did impact the bike hires, look at the stat from `March` and then `April` (its all time low in 12 months of data)\n",
    "\n",
    "#### Lets narrow down to just the year `2020` and see how the trend looks like?"
   ]
  },
  {
   "cell_type": "code",
   "execution_count": 43,
   "metadata": {},
   "outputs": [
    {
     "data": {
      "text/plain": [
       "(array([0, 1, 2, 3, 4, 5, 6]), <a list of 7 Text xticklabel objects>)"
      ]
     },
     "execution_count": 43,
     "metadata": {},
     "output_type": "execute_result"
    },
    {
     "data": {
      "image/png": "[encoded data removed]",
      "text/plain": [
       "<Figure size 360x360 with 1 Axes>"
      ]
     },
     "metadata": {
      "needs_background": "light"
     },
     "output_type": "display_data"
    }
   ],
   "source": [
    "graph = sb.catplot(data=ford_df.query('month_year > \"2019-12\"').sort_values(by='month_year'), x='month_year', kind='count', color='orange')\n",
    "graph.set_axis_labels(\"Month\", \"No of bike hires\")\n",
    "graph.fig.suptitle('Monthly Bike rides Usage', y=1, fontsize=14, fontweight='semibold');\n",
    "plt.xticks(rotation = 45)\n"
   ]
  },
  {
   "cell_type": "markdown",
   "metadata": {},
   "source": [
    "### Observation \n",
    "- We can see above the months `Jan` and `Feb` had upward trend and suddenly the number of rides drop in the month of `March` and further dips in `April` and gradually picking up from there on.\n",
    "\n",
    "#### 2. Number of Bike Hires or Rides on weekly basis.\n",
    "> Interested in looking at the data to see if there is a popular day in the week when the riders are using the bike and what is the trend through out the week?"
   ]
  },
  {
   "cell_type": "code",
   "execution_count": 44,
   "metadata": {},
   "outputs": [
    {
     "data": {
      "text/plain": [
       "(array([0, 1, 2, 3, 4, 5, 6]), <a list of 7 Text xticklabel objects>)"
      ]
     },
     "execution_count": 44,
     "metadata": {},
     "output_type": "execute_result"
    },
    {
     "data": {
      "image/png": "[encoded data removed]",
      "text/plain": [
       "<Figure size 360x360 with 1 Axes>"
      ]
     },
     "metadata": {
      "needs_background": "light"
     },
     "output_type": "display_data"
    }
   ],
   "source": [
    "weekday = ['Mon', 'Tue', 'Wed', 'Thu', 'Fri', 'Sat', 'Sun']\n",
    "graph = sb.catplot(data=ford_df, x='day_of_week', kind='count', color='yellow', order=weekday)\n",
    "graph.set_axis_labels(\"Week\", \"No of bike hires\")\n",
    "graph.fig.suptitle('Weekly Bike rides Usage', y=1, fontsize=14, fontweight='semibold');\n",
    "plt.xticks(rotation = 45)"
   ]
  },
  {
   "cell_type": "markdown",
   "metadata": {},
   "source": [
    "### Observation :\n",
    "- Weekdays are generally more busy than the weekends.\n",
    "- Trend of ridership is upwards throughout the weekdays.\n",
    "- `Friday` is 15-20% busier than `Sunday`\n",
    "\n",
    "#### 3. Number of Bike Hires or Rides on date basis.\n",
    "> Interested to see if there is a popular day in the month when the riders hire the bike the most. And what it the trend look like in a month of ridership?"
   ]
  },
  {
   "cell_type": "code",
   "execution_count": 45,
   "metadata": {},
   "outputs": [
    {
     "data": {
      "text/plain": [
       "(array([ 0,  1,  2,  3,  4,  5,  6,  7,  8,  9, 10, 11, 12, 13, 14, 15, 16,\n",
       "        17, 18, 19, 20, 21, 22, 23, 24, 25, 26, 27, 28, 29, 30]),\n",
       " <a list of 31 Text xticklabel objects>)"
      ]
     },
     "execution_count": 45,
     "metadata": {},
     "output_type": "execute_result"
    },
    {
     "data": {
      "image/png": "[encoded data removed]",
      "text/plain": [
       "<Figure size 360x360 with 1 Axes>"
      ]
     },
     "metadata": {
      "needs_background": "light"
     },
     "output_type": "display_data"
    }
   ],
   "source": [
    "graph = sb.catplot(data=ford_df, x='day', kind='count', color='pink')\n",
    "graph.set_axis_labels(\"date\", \"No of bike hires\")\n",
    "graph.fig.suptitle('Date wise Bike rides Usage', y=1, fontsize=14, fontweight='semibold');\n",
    "plt.xticks(rotation = 90)"
   ]
  },
  {
   "cell_type": "markdown",
   "metadata": {},
   "source": [
    "### Observation :\n",
    "- Did not find anything interesting,\n",
    "- 31st date is bound to have less hire count since the date only comes in 6/12 months.\n",
    "\n",
    "#### 4. Number of Bike Hires or Rides on hourly basis.\n",
    "> Interested to see what are the popular times of the day when the riders hire the most. "
   ]
  },
  {
   "cell_type": "code",
   "execution_count": 46,
   "metadata": {},
   "outputs": [
    {
     "data": {
      "text/plain": [
       "(array([ 0,  1,  2,  3,  4,  5,  6,  7,  8,  9, 10, 11, 12, 13, 14, 15, 16,\n",
       "        17, 18, 19, 20, 21, 22, 23]),\n",
       " <a list of 24 Text xticklabel objects>)"
      ]
     },
     "execution_count": 46,
     "metadata": {},
     "output_type": "execute_result"
    },
    {
     "data": {
      "image/png": "[encoded data removed]",
      "text/plain": [
       "<Figure size 360x360 with 1 Axes>"
      ]
     },
     "metadata": {
      "needs_background": "light"
     },
     "output_type": "display_data"
    }
   ],
   "source": [
    "graph = sb.catplot(data=ford_df, x='hour', kind='count', color='green')\n",
    "graph.set_axis_labels(\"Hour\", \"No of bike hires\")\n",
    "graph.fig.suptitle('Hour wise Bike rides Usage', y=1, fontsize=14, fontweight='semibold');\n",
    "plt.xticks(rotation = 90)"
   ]
  },
  {
   "cell_type": "markdown",
   "metadata": {},
   "source": [
    "### Observation :\n",
    "- Peak hire is around the start and end of the business hour.\n",
    "\n",
    "#### Interested in looking into the COVID-19 imapct on above graph.\n",
    "> Next I am interested to see what does the above trend look like since COVID-19 restrictions have been in place in the US, and people are not going to work."
   ]
  },
  {
   "cell_type": "code",
   "execution_count": 47,
   "metadata": {},
   "outputs": [
    {
     "data": {
      "text/plain": [
       "(array([ 0,  1,  2,  3,  4,  5,  6,  7,  8,  9, 10, 11, 12, 13, 14, 15, 16,\n",
       "        17, 18, 19, 20, 21, 22, 23]),\n",
       " <a list of 24 Text xticklabel objects>)"
      ]
     },
     "execution_count": 47,
     "metadata": {},
     "output_type": "execute_result"
    },
    {
     "data": {
      "image/png": "[encoded data removed]",
      "text/plain": [
       "<Figure size 360x360 with 1 Axes>"
      ]
     },
     "metadata": {
      "needs_background": "light"
     },
     "output_type": "display_data"
    }
   ],
   "source": [
    "graph = sb.catplot(data=ford_df.query('month_year > \"2020-02\"'), x='hour', kind='count', color='green')\n",
    "graph.set_axis_labels(\"Hour\", \"No of bike hires\")\n",
    "graph.fig.suptitle('Hour wise Bike rides Usage', y=1, fontsize=14, fontweight='semibold');\n",
    "plt.xticks(rotation = 90)"
   ]
  },
  {
   "cell_type": "markdown",
   "metadata": {},
   "source": [
    "### Observation :\n",
    "- As seen above, the graph is now `Negatively Skewed` the peak ridership has completely shifted to the end of the business hour.\n",
    "\n",
    "### Bivariate Visualisation:\n",
    "\n",
    "#### 1. Proportion of the riders using either of `App` or `Clipper` method to hire the bike.\n",
    "> Interested to see what is the proportion of the users are using the App to hire or Clipper to hire the bike,"
   ]
  },
  {
   "cell_type": "code",
   "execution_count": 48,
   "metadata": {},
   "outputs": [
    {
     "data": {
      "text/plain": [
       "(-1.1053190988570933,\n",
       " 1.1079422678689235,\n",
       " -1.1068450278298874,\n",
       " 1.1064163388961294)"
      ]
     },
     "execution_count": 48,
     "metadata": {},
     "output_type": "execute_result"
    },
    {
     "data": {
      "image/png": "[encoded data removed]",
      "text/plain": [
       "<Figure size 432x288 with 1 Axes>"
      ]
     },
     "metadata": {},
     "output_type": "display_data"
    }
   ],
   "source": [
    "sorted_counts = ford_df['rental_access_method'].value_counts()\n",
    "plt.pie(sorted_counts, labels = sorted_counts.index, startangle = 30,\n",
    "        counterclock = False, wedgeprops = {'width' : 0.4});\n",
    "plt.title('Bike Hire Access methods')\n",
    "plt.axis('square')"
   ]
  },
  {
   "cell_type": "markdown",
   "metadata": {},
   "source": [
    "### Observation:\n",
    "- `App` is obviously the most popular access method to hire the bike,\n",
    "- `92.1%` of people using the App and `7.9%` riders using the `Clipper`.\n",
    "\n",
    "#### 2. How many riders are the Subscriber to the or how many are the Customer?\n",
    "> Interested to find out the how many of the bike riders are the `Subscriber` and `Customer`."
   ]
  },
  {
   "cell_type": "code",
   "execution_count": 49,
   "metadata": {},
   "outputs": [
    {
     "data": {
      "text/plain": [
       "(-1.1208589302319096,\n",
       " 1.1139343595334912,\n",
       " -1.111062564998715,\n",
       " 1.123730724766686)"
      ]
     },
     "execution_count": 49,
     "metadata": {},
     "output_type": "execute_result"
    },
    {
     "data": {
      "image/png": "[encoded data removed]",
      "text/plain": [
       "<Figure size 432x288 with 1 Axes>"
      ]
     },
     "metadata": {},
     "output_type": "display_data"
    }
   ],
   "source": [
    "sorted_counts = ford_df['user_type'].value_counts()\n",
    "plt.pie(sorted_counts, labels = sorted_counts.index, startangle = 90,\n",
    "        counterclock = False, wedgeprops = {'width' : 0.6});\n",
    "plt.title('Different User Types')\n",
    "plt.axis('square')"
   ]
  },
  {
   "cell_type": "markdown",
   "metadata": {},
   "source": [
    "#### Observation\n",
    "- 85% of Subscriber is a big number of riders\n",
    "- 15% of the Non-Subscriber using the bike \n",
    "\n",
    "#### 3. Which user type rides the bike longer?\n",
    "> Interested to find out what type of user rides the longest?"
   ]
  },
  {
   "cell_type": "code",
   "execution_count": 51,
   "metadata": {},
   "outputs": [
    {
     "data": {
      "image/png": "[encoded data removed]",
      "text/plain": [
       "<Figure size 576x360 with 1 Axes>"
      ]
     },
     "metadata": {
      "needs_background": "light"
     },
     "output_type": "display_data"
    }
   ],
   "source": [
    "plt.figure(figsize = [8, 5])\n",
    "base_color = sb.color_palette()[1]\n",
    "sb.boxplot(data = ford_df.query('duration_mins < 40000'), x = 'user_type', y = 'duration_mins', color = 'red')\n",
    "plt.xlabel('User Type')\n",
    "plt.ylabel('Duration (sec)')\n",
    "plt.show()\n"
   ]
  },
  {
   "cell_type": "markdown",
   "metadata": {},
   "source": [
    "- No observation from the above graph, need to reduce the `duration_mins` value further down."
   ]
  },
  {
   "cell_type": "code",
   "execution_count": 52,
   "metadata": {},
   "outputs": [
    {
     "data": {
      "image/png": "[encoded data removed]",
      "text/plain": [
       "<Figure size 576x360 with 1 Axes>"
      ]
     },
     "metadata": {
      "needs_background": "light"
     },
     "output_type": "display_data"
    }
   ],
   "source": [
    "# Lowering the time duration_mins, with upper limit being 10 mins \n",
    "plt.figure(figsize = [8, 5])\n",
    "base_color = sb.color_palette()[1]\n",
    "sb.boxplot(data = ford_df.query('duration_mins < 10'), x = 'user_type', y = 'duration_mins', color = 'red')\n",
    "plt.title('Different Users And Their Ride Duration')\n",
    "plt.xlabel('User Type')\n",
    "plt.ylabel('Duration (mins)')\n",
    "plt.show()"
   ]
  },
  {
   "cell_type": "markdown",
   "metadata": {},
   "source": [
    "- This looks better we know now `Customer` tends to hire bike for longer duration or rides for longer duration,\n",
    "- `Subscriber` users hire bike more often and for shorter duration."
   ]
  },
  {
   "cell_type": "code",
   "execution_count": 53,
   "metadata": {},
   "outputs": [
    {
     "data": {
      "image/png": "[encoded data removed]",
      "text/plain": [
       "<Figure size 576x360 with 1 Axes>"
      ]
     },
     "metadata": {
      "needs_background": "light"
     },
     "output_type": "display_data"
    }
   ],
   "source": [
    "# Lets figure out what is the trend of the user type when the ride duration is between the 10 mins to 100 mins. \n",
    "plt.figure(figsize = [8, 5])\n",
    "base_color = sb.color_palette()[1]\n",
    "sb.boxplot(data = ford_df.query('duration_mins > 30 and duration_mins < 100'), x = 'user_type', y = 'duration_mins', color = 'red')\n",
    "plt.title('Different Users And Their Ride Duration')\n",
    "plt.xlabel('User Type')\n",
    "plt.ylabel('Duration (mins)')\n",
    "plt.show()"
   ]
  },
  {
   "cell_type": "markdown",
   "metadata": {},
   "source": [
    "### Observation\n",
    "- The median for the time spent on the ride by the Customer is more than the median time spent by the Subscriber of the App.\n",
    "- Which infers the user type `Customer` tends to hire bike for longer duration or rides for longer duration\n",
    "\n",
    "\n",
    "### Multi-Variate Visualisation\n",
    "- In this section, I will explore than two variable in one visualisation,\n",
    "- Columns I will would like to put together:\n",
    "    ```\n",
    "        rental_access_method\n",
    "        rideable_type\n",
    "        user_type\n",
    "        year                            \n",
    "        month                        \n",
    "        day                        \n",
    "        month_year     \n",
    "        hour                         \n",
    "        day_of_week \n",
    "    ```\n",
    "    "
   ]
  },
  {
   "cell_type": "code",
   "execution_count": 54,
   "metadata": {},
   "outputs": [
    {
     "name": "stdout",
     "output_type": "stream",
     "text": [
      "<class 'pandas.core.frame.DataFrame'>\n",
      "RangeIndex: 2444694 entries, 0 to 2444693\n",
      "Data columns (total 17 columns):\n",
      " #   Column                   Dtype         \n",
      "---  ------                   -----         \n",
      " 0   duration_mins            float64       \n",
      " 1   start_time               datetime64[ns]\n",
      " 2   end_time                 datetime64[ns]\n",
      " 3   start_station_id         float64       \n",
      " 4   end_station_id           float64       \n",
      " 5   bike_id                  float64       \n",
      " 6   user_type                object        \n",
      " 7   bike_share_for_all_trip  object        \n",
      " 8   ride_id                  object        \n",
      " 9   rideable_type            object        \n",
      " 10  rental_access_method     object        \n",
      " 11  year                     object        \n",
      " 12  month                    object        \n",
      " 13  day                      object        \n",
      " 14  month_year               object        \n",
      " 15  hour                     object        \n",
      " 16  day_of_week              object        \n",
      "dtypes: datetime64[ns](2), float64(4), object(11)\n",
      "memory usage: 317.1+ MB\n"
     ]
    }
   ],
   "source": [
    "ford_df.info()"
   ]
  },
  {
   "cell_type": "code",
   "execution_count": 55,
   "metadata": {},
   "outputs": [
    {
     "data": {
      "text/plain": [
       "electric_bike    367168\n",
       "docked_bike      168477\n",
       "Name: rideable_type, dtype: int64"
      ]
     },
     "execution_count": 55,
     "metadata": {},
     "output_type": "execute_result"
    }
   ],
   "source": [
    "# Revisit the values and their count in `rideable_type`\n",
    "ford_df.rideable_type.value_counts()"
   ]
  },
  {
   "cell_type": "code",
   "execution_count": 56,
   "metadata": {},
   "outputs": [
    {
     "data": {
      "text/plain": [
       "Subscriber    1498557\n",
       "Customer       946137\n",
       "Name: user_type, dtype: int64"
      ]
     },
     "execution_count": 56,
     "metadata": {},
     "output_type": "execute_result"
    }
   ],
   "source": [
    "# Revisit the values and their count in `user_type`\n",
    "ford_df.user_type.value_counts()"
   ]
  },
  {
   "cell_type": "code",
   "execution_count": 57,
   "metadata": {},
   "outputs": [
    {
     "data": {
      "text/plain": [
       "app        595649\n",
       "clipper     51300\n",
       "Name: rental_access_method, dtype: int64"
      ]
     },
     "execution_count": 57,
     "metadata": {},
     "output_type": "execute_result"
    }
   ],
   "source": [
    "# Revisit the values and their count in `rental_access_method`\n",
    "ford_df.rental_access_method.value_counts()"
   ]
  },
  {
   "cell_type": "code",
   "execution_count": 58,
   "metadata": {},
   "outputs": [],
   "source": [
    "# set user_type, rideable_type, bike_share_for_all_trip and rental_access_method column values to category\n",
    "ford_df.user_type = ford_df.user_type.astype('category')\n",
    "ford_df.rideable_type = ford_df.rideable_type.astype('category')\n",
    "ford_df.bike_share_for_all_trip = ford_df.bike_share_for_all_trip.astype('category')\n",
    "ford_df.rental_access_method = ford_df.rental_access_method.astype('category')"
   ]
  },
  {
   "cell_type": "code",
   "execution_count": 59,
   "metadata": {},
   "outputs": [
    {
     "name": "stdout",
     "output_type": "stream",
     "text": [
      "<class 'pandas.core.frame.DataFrame'>\n",
      "RangeIndex: 2444694 entries, 0 to 2444693\n",
      "Data columns (total 17 columns):\n",
      " #   Column                   Dtype         \n",
      "---  ------                   -----         \n",
      " 0   duration_mins            float64       \n",
      " 1   start_time               datetime64[ns]\n",
      " 2   end_time                 datetime64[ns]\n",
      " 3   start_station_id         float64       \n",
      " 4   end_station_id           float64       \n",
      " 5   bike_id                  float64       \n",
      " 6   user_type                category      \n",
      " 7   bike_share_for_all_trip  category      \n",
      " 8   ride_id                  object        \n",
      " 9   rideable_type            category      \n",
      " 10  rental_access_method     category      \n",
      " 11  year                     object        \n",
      " 12  month                    object        \n",
      " 13  day                      object        \n",
      " 14  month_year               object        \n",
      " 15  hour                     object        \n",
      " 16  day_of_week              object        \n",
      "dtypes: category(4), datetime64[ns](2), float64(4), object(7)\n",
      "memory usage: 251.8+ MB\n"
     ]
    }
   ],
   "source": [
    "# verify the Dtype is type category for the above columns in the dataframe.\n",
    "ford_df.info()"
   ]
  },
  {
   "cell_type": "markdown",
   "metadata": {},
   "source": [
    "#### 1. What is the trend of the users and their ridership for each month of the year?\n",
    "> I am interested to see if there is a popular month for each user type when they hire the most. "
   ]
  },
  {
   "cell_type": "code",
   "execution_count": 72,
   "metadata": {},
   "outputs": [
    {
     "data": {
      "image/png": "[encoded data removed]",
      "text/plain": [
       "<Figure size 648x504 with 1 Axes>"
      ]
     },
     "metadata": {
      "needs_background": "light"
     },
     "output_type": "display_data"
    }
   ],
   "source": [
    "plt.figure(figsize = [9, 7])\n",
    "\n",
    "graph = sb.countplot(data=ford_df.sort_values(by='month_year'), x=\"user_type\", hue=\"month_year\", order=ford_df.user_type.value_counts().index)\n",
    "graph.set_xlabel('User Type')\n",
    "graph.set_ylabel('#Bike Trips')\n",
    "graph.set_title('Different User Types And Their Bike Rides For Each Month', y=1.03, fontsize=16, fontweight='semibold');"
   ]
  },
  {
   "cell_type": "markdown",
   "metadata": {},
   "source": [
    "### Observation\n",
    "- Nothing is particular, the summer time or the mid months seems to be popular for both the users. \n",
    "\n",
    "#### 2. What kind of bike is preferred by what kind of the user?\n",
    "> Interested to find do the any one of the user has the preference of choosing the bike over the other."
   ]
  },
  {
   "cell_type": "code",
   "execution_count": 61,
   "metadata": {},
   "outputs": [
    {
     "data": {
      "image/png": "[encoded data removed]",
      "text/plain": [
       "<Figure size 648x504 with 1 Axes>"
      ]
     },
     "metadata": {
      "needs_background": "light"
     },
     "output_type": "display_data"
    }
   ],
   "source": [
    "plt.figure(figsize = [9, 7])\n",
    "graph = sb.countplot(data=ford_df, x=\"user_type\", hue=\"rideable_type\", order=ford_df.user_type.value_counts().index)\n",
    "graph.set_xlabel('User Type')\n",
    "graph.set_ylabel('#Bike Trips')\n",
    "graph.set_title('User Type And Their Preference of Bike Type And Number of Rides', y=1.03, fontsize=16, fontweight='semibold');"
   ]
  },
  {
   "cell_type": "markdown",
   "metadata": {},
   "source": [
    "### Observation\n",
    "- Easy to read the `Customer` type user prefers to ride the `Electric` bike the most.\n",
    "\n",
    "#### 3. What is the preferred bike accessing method for each user, find out by the number of rides taken?\n",
    "> Interested to find do the any one of the user has the preference of choosing the bike over the other."
   ]
  },
  {
   "cell_type": "code",
   "execution_count": 62,
   "metadata": {},
   "outputs": [
    {
     "data": {
      "image/png": "[encoded data removed]",
      "text/plain": [
       "<Figure size 648x504 with 1 Axes>"
      ]
     },
     "metadata": {
      "needs_background": "light"
     },
     "output_type": "display_data"
    }
   ],
   "source": [
    "plt.figure(figsize = [9, 7])\n",
    "\n",
    "graph = sb.countplot(data=ford_df, x=\"user_type\", hue=\"rental_access_method\", order=ford_df.user_type.value_counts().index)\n",
    "graph.set_xlabel('User Type')\n",
    "graph.set_ylabel('Number of Bike Trips')\n",
    "graph.set_title('User Type And Their Preference of Accessing Method of Hiring And Number of Rides', y=1.03, fontsize=16, fontweight='semibold');"
   ]
  },
  {
   "cell_type": "markdown",
   "metadata": {},
   "source": [
    "### Observations\n",
    "- From the above table it looks like we have `app` being the most popular option among the user types. \n",
    "- But we are not very clear on the proportion wise which customer prefer which option when user type compared to each other?\n",
    "- My question being do user_type `Customer` prefer using `Clipper` over the `Subscribers`? or Vice-Versa?\n"
   ]
  },
  {
   "cell_type": "code",
   "execution_count": 63,
   "metadata": {},
   "outputs": [],
   "source": [
    "# lets make the two sub dataframe one contains the rows with user_type being Customer and other with Subscriber.\n",
    "subs_df = ford_df.query('user_type == \"Subscriber\"')\n",
    "cust_df = ford_df.query('user_type == \"Customer\"')"
   ]
  },
  {
   "cell_type": "code",
   "execution_count": 64,
   "metadata": {},
   "outputs": [
    {
     "data": {
      "text/html": [
       "<div>\n",
       "<style scoped>\n",
       "    .dataframe tbody tr th:only-of-type {\n",
       "        vertical-align: middle;\n",
       "    }\n",
       "\n",
       "    .dataframe tbody tr th {\n",
       "        vertical-align: top;\n",
       "    }\n",
       "\n",
       "    .dataframe thead th {\n",
       "        text-align: right;\n",
       "    }\n",
       "</style>\n",
       "<table border=\"1\" class=\"dataframe\">\n",
       "  <thead>\n",
       "    <tr style=\"text-align: right;\">\n",
       "      <th></th>\n",
       "      <th>user_type</th>\n",
       "      <th>Clipper</th>\n",
       "      <th>App</th>\n",
       "    </tr>\n",
       "  </thead>\n",
       "  <tbody>\n",
       "    <tr>\n",
       "      <th>0</th>\n",
       "      <td>Subscriber</td>\n",
       "      <td>0.087860</td>\n",
       "      <td>0.912140</td>\n",
       "    </tr>\n",
       "    <tr>\n",
       "      <th>1</th>\n",
       "      <td>Customer</td>\n",
       "      <td>0.025566</td>\n",
       "      <td>0.974434</td>\n",
       "    </tr>\n",
       "  </tbody>\n",
       "</table>\n",
       "</div>"
      ],
      "text/plain": [
       "    user_type   Clipper       App\n",
       "0  Subscriber  0.087860  0.912140\n",
       "1    Customer  0.025566  0.974434"
      ]
     },
     "execution_count": 64,
     "metadata": {},
     "output_type": "execute_result"
    }
   ],
   "source": [
    "\n",
    "# find out the number of Subscribers using the App and Clipper and put them in two different variables.\n",
    "subs_rider_using_app = subs_df.query('rental_access_method == \"app\"').rental_access_method.count()\n",
    "subs_rider_using_clipper = subs_df.query('rental_access_method == \"clipper\"').rental_access_method.count()\n",
    "\n",
    "# Add above two and find the proportion of the Subscriber using the clipper and App.\n",
    "total_subs_rider = subs_rider_using_app + subs_rider_using_clipper\n",
    "subs_rider_using_app_prop = subs_rider_using_app / total_subs_rider\n",
    "subs_rider_using_clipper_prop = subs_rider_using_clipper / total_subs_rider\n",
    "\n",
    "# find out the number of `Customer` type riders using the App and Clipper and put them in two different variables.\n",
    "cust_rider_using_app = cust_df.query('rental_access_method == \"app\"').rental_access_method.count()\n",
    "cust_rider_using_clipper = cust_df.query('rental_access_method == \"clipper\"').rental_access_method.count()\n",
    "\n",
    "# Add above two and find the proportion of the Customer using the clipper and App.\n",
    "total_cust_rider = cust_rider_using_app + cust_rider_using_clipper\n",
    "cust_rider_using_app_prop = cust_rider_using_app / total_cust_rider\n",
    "cust_rider_using_clipper_prop = cust_rider_using_clipper / total_cust_rider\n",
    "\n",
    "# Putting all the variables and their Values into a dictionary,\n",
    "proportion_data = {'user_type': ['Subscriber', 'Customer'], \n",
    "                   'Clipper': [subs_rider_using_clipper_prop, cust_rider_using_clipper_prop],\n",
    "                   'App': [subs_rider_using_app_prop, cust_rider_using_app_prop]\n",
    "                  }\n",
    "\n",
    "# Creating a dataframe of the proportion values gathered from above.\n",
    "proportion_df = pd.DataFrame.from_dict(proportion_data)\n",
    "proportion_df"
   ]
  },
  {
   "cell_type": "code",
   "execution_count": 71,
   "metadata": {},
   "outputs": [
    {
     "data": {
      "text/plain": [
       "<Figure size 288x216 with 0 Axes>"
      ]
     },
     "metadata": {},
     "output_type": "display_data"
    },
    {
     "data": {
      "image/png": "[encoded data removed]",
      "text/plain": [
       "<Figure size 360x360 with 1 Axes>"
      ]
     },
     "metadata": {
      "needs_background": "light"
     },
     "output_type": "display_data"
    },
    {
     "data": {
      "image/png": "[encoded data removed]",
      "text/plain": [
       "<Figure size 360x360 with 1 Axes>"
      ]
     },
     "metadata": {
      "needs_background": "light"
     },
     "output_type": "display_data"
    }
   ],
   "source": [
    "# Plotting the above dataframe with the proportion values.\n",
    "plt.figure(figsize = [4, 3])\n",
    "\n",
    "graph = sb.catplot(data=proportion_df, x=\"user_type\", y=\"App\")\n",
    "graph = sb.catplot(data=proportion_df, x=\"user_type\", y=\"Clipper\")"
   ]
  },
  {
   "cell_type": "markdown",
   "metadata": {},
   "source": [
    "### Observation\n",
    "- As seen in the above two graphs, we know the answer to our question\n",
    "- `Customer` type users are more likely to use the `App` than the `Subscribers`.\n",
    "\n",
    "#### 4. Is there a trend in the different user type riding on different date of the months?\n"
   ]
  },
  {
   "cell_type": "code",
   "execution_count": 66,
   "metadata": {},
   "outputs": [
    {
     "data": {
      "image/png": "[encoded data removed]",
      "text/plain": [
       "<Figure size 648x504 with 1 Axes>"
      ]
     },
     "metadata": {
      "needs_background": "light"
     },
     "output_type": "display_data"
    }
   ],
   "source": [
    "plt.figure(figsize = [9, 7])\n",
    "\n",
    "graph = sb.countplot(data=ford_df, x=\"user_type\", hue=\"hour\", order=ford_df.user_type.value_counts().index)\n",
    "graph.set_xlabel('User Type')\n",
    "graph.set_ylabel('Number of Bike Trips')\n",
    "graph.set_title('Bike Rides by day of the month', y=1.03, fontsize=16, fontweight='semibold');"
   ]
  },
  {
   "cell_type": "markdown",
   "metadata": {},
   "source": [
    "### Observation\n",
    "- Nothing interesting that differentiate between the two types of `riders` that I see in the above graph, \n",
    "- But it does show some similarities, both the riders are active in the `first and last 10 days` of the month.\n",
    "\n",
    "#### 5. Is there a trend in the different user type riding on different date of the months?"
   ]
  },
  {
   "cell_type": "code",
   "execution_count": 67,
   "metadata": {},
   "outputs": [
    {
     "data": {
      "image/png": "[encoded data removed]",
      "text/plain": [
       "<Figure size 648x504 with 1 Axes>"
      ]
     },
     "metadata": {
      "needs_background": "light"
     },
     "output_type": "display_data"
    }
   ],
   "source": [
    "plt.figure(figsize = [9, 7])\n",
    "graph = sb.countplot(data=ford_df, x=\"user_type\", hue=\"month_year\", order=ford_df.user_type.value_counts().index)\n",
    "graph.set_xlabel('User Type')\n",
    "graph.set_ylabel('#Bike Trips')\n",
    "graph.set_title('Bike Rides by month of the year', y=1.03, fontsize=16, fontweight='semibold');"
   ]
  },
  {
   "cell_type": "markdown",
   "metadata": {},
   "source": [
    "### Observation\n",
    "- Nothing interesting that differentiate between the two types of `riders` that I see in the above graph, \n",
    "- But it does show some similarities, both the riders are active in the `mid month of the year`."
   ]
  }
 ],
 "metadata": {
  "kernelspec": {
   "display_name": "Python 3",
   "language": "python",
   "name": "python3"
  },
  "language_info": {
   "codemirror_mode": {
    "name": "ipython",
    "version": 3
   },
   "file_extension": ".py",
   "mimetype": "text/x-python",
   "name": "python",
   "nbconvert_exporter": "python",
   "pygments_lexer": "ipython3",
   "version": "3.7.6"
  }
 },
 "nbformat": 4,
 "nbformat_minor": 4
}
